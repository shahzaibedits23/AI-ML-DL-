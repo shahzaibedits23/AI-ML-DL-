{
  "cells": [
    {
      "cell_type": "markdown",
      "metadata": {
        "id": "view-in-github",
        "colab_type": "text"
      },
      "source": [
        "<a href=\"https://colab.research.google.com/github/shahzaibedits23/AI-ML-DL-/blob/main/Classwork.ipynb\" target=\"_parent\"><img src=\"https://colab.research.google.com/assets/colab-badge.svg\" alt=\"Open In Colab\"/></a>"
      ]
    },
    {
      "cell_type": "markdown",
      "source": [
        "### **List**"
      ],
      "metadata": {
        "id": "4D4lKlERdD_C"
      }
    },
    {
      "cell_type": "code",
      "execution_count": null,
      "metadata": {
        "colab": {
          "base_uri": "https://localhost:8080/"
        },
        "id": "OjbPQ0rPww9D",
        "outputId": "075d1df5-e054-4ff7-b573-d2991f8f49a8"
      },
      "outputs": [
        {
          "name": "stdout",
          "output_type": "stream",
          "text": [
            "Enter first list:3 4 5 \n",
            "Enter second list:2 3 5\n",
            "{'2 3 5', '3 4 5 '}\n"
          ]
        }
      ],
      "source": [
        "list1_str = input(\"Enter first list:\")\n",
        "list2_str = input(\"Enter second list:\")\n",
        "\n",
        "list1 = set(list1_str.split(','))\n",
        "list2 = set(list2_str.split(','))\n",
        "\n",
        "union_set = list1 | list2\n",
        "print(union_set)"
      ]
    },
    {
      "cell_type": "code",
      "execution_count": null,
      "metadata": {
        "colab": {
          "base_uri": "https://localhost:8080/"
        },
        "id": "d2X_TXyJz-9y",
        "outputId": "1538e111-ece3-45d3-cd21-cacc0cd92aad"
      },
      "outputs": [
        {
          "name": "stdout",
          "output_type": "stream",
          "text": [
            "{1, 2, 3, 4, 5, 6, 7, 8}\n"
          ]
        }
      ],
      "source": [
        "set1 = {1,2,3,4,5}\n",
        "set2 = {4,5,6,7,8}\n",
        "\n",
        "union_set = set1 | set2\n",
        "print(union_set)"
      ]
    },
    {
      "cell_type": "code",
      "execution_count": null,
      "metadata": {
        "colab": {
          "base_uri": "https://localhost:8080/"
        },
        "id": "5N_FJy3Y1kKW",
        "outputId": "1ab6597c-49f1-48f6-c913-e4e884e355a0"
      },
      "outputs": [
        {
          "output_type": "stream",
          "name": "stdout",
          "text": [
            "Enter list elements one by one. Type 'done' to finish.\n",
            "Enter an element: 6\n",
            "Enter an element: 6\n",
            "Enter an element: 5\n",
            "Enter an element: 7\n",
            "Enter an element: doe\n",
            "Enter an element: done\n",
            "Your list: ['6', '6', '5', '7', 'doe']\n"
          ]
        }
      ],
      "source": [
        "my_list_one_by_one = []\n",
        "print(\"Enter list elements one by one. Type 'done' to finish.\")\n",
        "\n",
        "while True:\n",
        "    element = input(\"Enter an element: \")\n",
        "    if element.lower() == 'done':\n",
        "        break\n",
        "    my_list_one_by_one.append(element)\n",
        "\n",
        "print(\"Your list:\", my_list_one_by_one)"
      ]
    },
    {
      "cell_type": "code",
      "execution_count": null,
      "metadata": {
        "colab": {
          "base_uri": "https://localhost:8080/"
        },
        "id": "wRbh6st57Z35",
        "outputId": "51f7ca8e-71c7-4663-e3e3-9fc8add38e50"
      },
      "outputs": [
        {
          "name": "stdout",
          "output_type": "stream",
          "text": [
            "80\n"
          ]
        }
      ],
      "source": [
        "# Sum of Even numbers in list\n",
        "list1 = [10, 21, 4, 45, 66, 93, 1]\n",
        "even_sum = 0\n",
        "for num in list1:\n",
        " if num % 2 == 0:\n",
        "    even_sum += num\n",
        "print(even_sum)"
      ]
    }
  ],
  "metadata": {
    "colab": {
      "provenance": [],
      "authorship_tag": "ABX9TyNm1YT47InIM6XoUM4yf2Lv",
      "include_colab_link": true
    },
    "kernelspec": {
      "display_name": "Python 3",
      "name": "python3"
    },
    "language_info": {
      "name": "python"
    }
  },
  "nbformat": 4,
  "nbformat_minor": 0
}