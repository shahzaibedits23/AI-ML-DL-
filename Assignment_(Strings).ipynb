{
  "nbformat": 4,
  "nbformat_minor": 0,
  "metadata": {
    "colab": {
      "provenance": [],
      "authorship_tag": "ABX9TyN4zxor8sO6gjwgn/3VupSu",
      "include_colab_link": true
    },
    "kernelspec": {
      "name": "python3",
      "display_name": "Python 3"
    },
    "language_info": {
      "name": "python"
    }
  },
  "cells": [
    {
      "cell_type": "markdown",
      "metadata": {
        "id": "view-in-github",
        "colab_type": "text"
      },
      "source": [
        "<a href=\"https://colab.research.google.com/github/shahzaibedits23/AI-ML-DL-/blob/main/Assignment_(Strings).ipynb\" target=\"_parent\"><img src=\"https://colab.research.google.com/assets/colab-badge.svg\" alt=\"Open In Colab\"/></a>"
      ]
    },
    {
      "cell_type": "markdown",
      "source": [
        "Q1. String Length\n",
        "\n",
        "Take a string from the user and print its length using len()."
      ],
      "metadata": {
        "id": "9Z68_oCbPN50"
      }
    },
    {
      "cell_type": "code",
      "metadata": {
        "colab": {
          "base_uri": "https://localhost:8080/"
        },
        "id": "52ec4b04",
        "outputId": "62eddf4f-c8cc-441a-f2f7-f1b76db488ed"
      },
      "source": [
        "user_string = input(\"Please enter a string: \")\n",
        "print(\"The length of the string is:\", len(user_string))"
      ],
      "execution_count": 1,
      "outputs": [
        {
          "output_type": "stream",
          "name": "stdout",
          "text": [
            "Please enter a string: My name is Shahzaib\n",
            "The length of the string is: 19\n"
          ]
        }
      ]
    },
    {
      "cell_type": "markdown",
      "source": [
        "Q2. Uppercase and Lowercase\n",
        "\n",
        "Input a string and print it in both uppercase and lowercase."
      ],
      "metadata": {
        "id": "9dd1_dubPosC"
      }
    },
    {
      "cell_type": "code",
      "metadata": {
        "colab": {
          "base_uri": "https://localhost:8080/"
        },
        "id": "fa0606e9",
        "outputId": "07f319df-9468-4ef8-fee1-1597b9259205"
      },
      "source": [
        "user_string = input(\"Please enter a string: \")\n",
        "print(\"Uppercase:\", user_string.upper())\n",
        "print(\"Lowercase:\", user_string.lower())"
      ],
      "execution_count": 2,
      "outputs": [
        {
          "output_type": "stream",
          "name": "stdout",
          "text": [
            "Please enter a string: Shahzaib\n",
            "Uppercase: SHAHZAIB\n",
            "Lowercase: shahzaib\n"
          ]
        }
      ]
    },
    {
      "cell_type": "markdown",
      "source": [
        "Q3. First and Last Character\n",
        "\n",
        "Ask the user for a string and print the first and last character."
      ],
      "metadata": {
        "id": "IJzsO6BmPz_F"
      }
    },
    {
      "cell_type": "code",
      "source": [
        "user_string = input(\"Please enter a string: \")\n",
        "if user_string:\n",
        "    print(\"First character:\", user_string[0])\n",
        "    print(\"Last character:\", user_string[-1])\n",
        "else:\n",
        "    print(\"The string is empty.\")"
      ],
      "metadata": {
        "colab": {
          "base_uri": "https://localhost:8080/"
        },
        "id": "H2_LVahfP11m",
        "outputId": "d69dce08-da02-42be-9a03-e8e81257f94f"
      },
      "execution_count": 3,
      "outputs": [
        {
          "output_type": "stream",
          "name": "stdout",
          "text": [
            "Please enter a string: My name is shahzaib\n",
            "First character: M\n",
            "Last character: b\n"
          ]
        }
      ]
    },
    {
      "cell_type": "markdown",
      "source": [
        "Q4. Count Letter\n",
        "\n",
        "Take a string and a letter from the user. Count how many times that letter appears in the string."
      ],
      "metadata": {
        "id": "e3mUqCrlQJe8"
      }
    },
    {
      "cell_type": "code",
      "source": [
        "user_string = input(\"Please enter a string: \")\n",
        "user_letter = input(\"Please enter a letter to count: \")\n",
        "\n",
        "if len(user_letter) == 1:\n",
        "    count = user_string.count(user_letter)\n",
        "    print(f\"The letter '{user_letter}' appears {count} times in the string.\")\n",
        "else:\n",
        "    print(\"Please enter only a single letter.\")"
      ],
      "metadata": {
        "colab": {
          "base_uri": "https://localhost:8080/"
        },
        "id": "LyojJOEaQOLd",
        "outputId": "19ded36f-54d8-453e-b442-acd6750a92db"
      },
      "execution_count": 4,
      "outputs": [
        {
          "output_type": "stream",
          "name": "stdout",
          "text": [
            "Please enter a string: shahzaib\n",
            "Please enter a letter to count: a\n",
            "The letter 'a' appears 2 times in the string.\n"
          ]
        }
      ]
    },
    {
      "cell_type": "markdown",
      "source": [
        "Q5. Replace Word\n",
        "\n",
        "Replace the word \"bad\" with \"good\" in a sentence."
      ],
      "metadata": {
        "id": "cZcleqIvQYOW"
      }
    },
    {
      "cell_type": "code",
      "source": [
        "sentence = input(\"Enter a sentence: \")\n",
        "new_sentence = sentence.replace(\"bad\", \"good\")\n",
        "print(\"Original sentence:\", sentence)\n",
        "print(\"Modified sentence:\", new_sentence)"
      ],
      "metadata": {
        "colab": {
          "base_uri": "https://localhost:8080/"
        },
        "id": "zpipv1NrQZpx",
        "outputId": "a27aee2e-1b0b-43ad-d07d-33331e4f6499"
      },
      "execution_count": 5,
      "outputs": [
        {
          "output_type": "stream",
          "name": "stdout",
          "text": [
            "Enter a sentence: my name is shahzaib\n",
            "Original sentence: my name is shahzaib\n",
            "Modified sentence: my name is shahzaib\n"
          ]
        }
      ]
    },
    {
      "cell_type": "markdown",
      "source": [
        "Q6. Print Characters in Loop\n",
        "\n",
        "Take a string from the user and print each character on a new line using a loop."
      ],
      "metadata": {
        "id": "4DlKrs__Qger"
      }
    },
    {
      "cell_type": "code",
      "source": [
        "user_string = input(\"Please enter a string: \")\n",
        "for char in user_string:\n",
        "    print(char)"
      ],
      "metadata": {
        "colab": {
          "base_uri": "https://localhost:8080/"
        },
        "id": "KjtpXKI9QiFx",
        "outputId": "b93255ce-fdd4-485a-e41c-b20698a3ef3a"
      },
      "execution_count": 6,
      "outputs": [
        {
          "output_type": "stream",
          "name": "stdout",
          "text": [
            "Please enter a string: my name is shahzaib\n",
            "m\n",
            "y\n",
            " \n",
            "n\n",
            "a\n",
            "m\n",
            "e\n",
            " \n",
            "i\n",
            "s\n",
            " \n",
            "s\n",
            "h\n",
            "a\n",
            "h\n",
            "z\n",
            "a\n",
            "i\n",
            "b\n"
          ]
        }
      ]
    },
    {
      "cell_type": "markdown",
      "source": [
        "Q7. Palindrome Check\n",
        "\n",
        "Check if a string is a palindrome (same forwards and backwards)."
      ],
      "metadata": {
        "id": "hcfI9ngoQoTP"
      }
    },
    {
      "cell_type": "code",
      "source": [
        "user_string = input(\"Enter a string: \")\n",
        "# Remove spaces and convert to lowercase for case-insensitive check\n",
        "cleaned_string = user_string.replace(\" \", \"\").lower()\n",
        "if cleaned_string == cleaned_string[::-1]:\n",
        "    print(f\"'{user_string}' is a palindrome.\")\n",
        "else:\n",
        "    print(f\"'{user_string}' is not a palindrome.\")"
      ],
      "metadata": {
        "colab": {
          "base_uri": "https://localhost:8080/"
        },
        "id": "bMyuB7VGQr9S",
        "outputId": "e33b28cd-9a6a-489d-b572-1679469a76dd"
      },
      "execution_count": 7,
      "outputs": [
        {
          "output_type": "stream",
          "name": "stdout",
          "text": [
            "Enter a string: my name is shahzaib\n",
            "'my name is shahzaib' is not a palindrome.\n"
          ]
        }
      ]
    },
    {
      "cell_type": "markdown",
      "source": [
        "Q8. Join List into String\n",
        "\n",
        "Take a list of words [\"I\", \"love\", \"Python\"] and join them into a single string with spaces:"
      ],
      "metadata": {
        "id": "5jJK0ZKmQ0bF"
      }
    },
    {
      "cell_type": "code",
      "source": [
        "words = [\"I\", \"love\", \"Python\"]\n",
        "sentence = \" \".join(words)\n",
        "print(sentence)"
      ],
      "metadata": {
        "colab": {
          "base_uri": "https://localhost:8080/"
        },
        "id": "wqCwzY9DQ3KT",
        "outputId": "face0c3e-53bf-439c-c8c4-6f4b3e5b2492"
      },
      "execution_count": 8,
      "outputs": [
        {
          "output_type": "stream",
          "name": "stdout",
          "text": [
            "I love Python\n"
          ]
        }
      ]
    }
  ]
}