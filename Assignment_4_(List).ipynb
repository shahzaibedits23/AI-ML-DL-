{
  "nbformat": 4,
  "nbformat_minor": 0,
  "metadata": {
    "colab": {
      "provenance": [],
      "authorship_tag": "ABX9TyNEBp49kD5lYVuDMU0N8wcq",
      "include_colab_link": true
    },
    "kernelspec": {
      "name": "python3",
      "display_name": "Python 3"
    },
    "language_info": {
      "name": "python"
    }
  },
  "cells": [
    {
      "cell_type": "markdown",
      "metadata": {
        "id": "view-in-github",
        "colab_type": "text"
      },
      "source": [
        "<a href=\"https://colab.research.google.com/github/shahzaibedits23/AI-ML-DL-/blob/main/Assignment_4_(List).ipynb\" target=\"_parent\"><img src=\"https://colab.research.google.com/assets/colab-badge.svg\" alt=\"Open In Colab\"/></a>"
      ]
    },
    {
      "cell_type": "markdown",
      "source": [
        "Q1:Create a list of 7 numbers. Print only the even numbers from the list."
      ],
      "metadata": {
        "id": "mUV-FHOahTK0"
      }
    },
    {
      "cell_type": "code",
      "execution_count": null,
      "metadata": {
        "colab": {
          "base_uri": "https://localhost:8080/"
        },
        "id": "lbpYYwdohLfa",
        "outputId": "0717d169-aad6-40a1-d0ad-c0999db5fbf6"
      },
      "outputs": [
        {
          "output_type": "stream",
          "name": "stdout",
          "text": [
            "List of even numbers is [2, 4, 6, 8, 10, 12]\n"
          ]
        }
      ],
      "source": [
        "list = [2,4,6,8,10,12,13]\n",
        "even = [num for num in list if num % 2 == 0]\n",
        "print(\"List of even numbers is\",even)"
      ]
    },
    {
      "cell_type": "markdown",
      "source": [
        "Q2: Create a list of 5 student names. Ask the user to input a name, and check if it exists in the\n",
        "list. Print &quot;Found&quot; or &quot;Not Found&quot;."
      ],
      "metadata": {
        "id": "SNx2AauBj2J2"
      }
    },
    {
      "cell_type": "code",
      "source": [
        "my_list = [\"Ali\",\"Hamza\",\"Saad\",\"Zain\",\"Maaz\"]\n",
        "name = input(\"Enter a name: \")\n",
        "if name in my_list:\n",
        "    print(\"Found\")\n",
        "else:\n",
        "    print(\"Not Found\")"
      ],
      "metadata": {
        "colab": {
          "base_uri": "https://localhost:8080/"
        },
        "id": "J5mPuP9RkSnd",
        "outputId": "40896a3f-7a14-40d0-8323-cafcfd408a4a"
      },
      "execution_count": null,
      "outputs": [
        {
          "output_type": "stream",
          "name": "stdout",
          "text": [
            "Enter a name: Saad\n",
            "Found\n"
          ]
        }
      ]
    },
    {
      "cell_type": "markdown",
      "source": [
        "Q3: Create a list of 6 numbers. Print the maximum and minimum numbers without using max()\n",
        "and min() functions."
      ],
      "metadata": {
        "id": "QhHJNoxylhOX"
      }
    },
    {
      "cell_type": "code",
      "source": [
        "list = [91,29,13,47,59,16]\n",
        "list.sort()\n",
        "print(list)\n",
        "print(\"Maximum number is\",list[-1])\n",
        "print(\"Minimum number is\",list[0])"
      ],
      "metadata": {
        "colab": {
          "base_uri": "https://localhost:8080/"
        },
        "id": "hmV-R-cZlnlz",
        "outputId": "c1723e77-0f7c-44da-abc7-4d718481334c"
      },
      "execution_count": null,
      "outputs": [
        {
          "output_type": "stream",
          "name": "stdout",
          "text": [
            "[13, 16, 29, 47, 59, 91]\n",
            "Maximum number is 91\n",
            "Minimum number is 13\n"
          ]
        }
      ]
    },
    {
      "cell_type": "markdown",
      "source": [
        "Q4: Create a list [2, 4, 6, 8, 10]. Multiply each number by 3 and store the results in a new\n",
        "list. Print the new list."
      ],
      "metadata": {
        "id": "oC7qPMxhn28s"
      }
    },
    {
      "cell_type": "code",
      "source": [
        "list = [2,4,6,8,10]\n",
        "new_list = []\n",
        "for num in list:\n",
        "    new_list.append(num*3)\n",
        "print(new_list)"
      ],
      "metadata": {
        "colab": {
          "base_uri": "https://localhost:8080/"
        },
        "id": "q6IRv1ptn-AU",
        "outputId": "6cf43651-8b5e-480e-970e-5d035c8441af"
      },
      "execution_count": null,
      "outputs": [
        {
          "output_type": "stream",
          "name": "stdout",
          "text": [
            "[6, 12, 18, 24, 30]\n"
          ]
        }
      ]
    },
    {
      "cell_type": "markdown",
      "source": [
        "Q5: Create a nested list:\n",
        "students = [[&quot;Ali&quot;, 20], [&quot;Sara&quot;, 22], [&quot;Ahmed&quot;, 19]]\n",
        "Print only the names of the students."
      ],
      "metadata": {
        "id": "Q2SNpirYoO2q"
      }
    },
    {
      "cell_type": "code",
      "source": [
        "list= [[\"Ali\", 20], [\"Sara\", 22], [\"Ahmed\", 19]]\n",
        "for name,age in list:\n",
        "    print(name)"
      ],
      "metadata": {
        "colab": {
          "base_uri": "https://localhost:8080/"
        },
        "id": "ldAN3wYToT5n",
        "outputId": "f4357b6c-5189-481c-9a06-2f21d0224870"
      },
      "execution_count": null,
      "outputs": [
        {
          "output_type": "stream",
          "name": "stdout",
          "text": [
            "Ali\n",
            "Sara\n",
            "Ahmed\n"
          ]
        }
      ]
    },
    {
      "cell_type": "markdown",
      "source": [
        "Q6: Create a list of numbers. Find and print the second largest number from the list."
      ],
      "metadata": {
        "id": "LIWE1C4Ooa8m"
      }
    },
    {
      "cell_type": "code",
      "source": [
        "list = [298,134,336,899,102,132,913]\n",
        "list.sort()\n",
        "print(list)\n",
        "print(\"Second largest number is\",list[-2])"
      ],
      "metadata": {
        "colab": {
          "base_uri": "https://localhost:8080/"
        },
        "id": "AP-pHss6ofzX",
        "outputId": "83a3e01e-8da5-4cbb-bf30-9d3f2867c49d"
      },
      "execution_count": null,
      "outputs": [
        {
          "output_type": "stream",
          "name": "stdout",
          "text": [
            "[102, 132, 134, 298, 336, 899, 913]\n",
            "Second largest number is 899\n"
          ]
        }
      ]
    },
    {
      "cell_type": "markdown",
      "source": [
        "Q7: Create a list of numbers [1,2,3,4,5,6,7,8,9]. Print only the numbers at odd indexes (1,\n",
        "3, 5 …)."
      ],
      "metadata": {
        "id": "AXuptcujouHH"
      }
    },
    {
      "cell_type": "code",
      "source": [
        "list = [1,2,3,4,5,6,7,8,9]\n",
        "print(list[1::2])"
      ],
      "metadata": {
        "colab": {
          "base_uri": "https://localhost:8080/"
        },
        "id": "P3I7WVydo0Lm",
        "outputId": "44b56086-4f36-4fad-c54f-6a438177a210"
      },
      "execution_count": null,
      "outputs": [
        {
          "output_type": "stream",
          "name": "stdout",
          "text": [
            "[2, 4, 6, 8]\n"
          ]
        }
      ]
    },
    {
      "cell_type": "markdown",
      "source": [
        "Q8: Create a list of words. Join them into a single sentence (string) separated by spaces and print\n",
        "it."
      ],
      "metadata": {
        "id": "7j1unRK2qGJk"
      }
    },
    {
      "cell_type": "code",
      "source": [
        "list = [\"My\",\"Name\",\"is\",\"Shahzaib\"]\n",
        "list1 = \" \".join(list)\n",
        "print(list1)"
      ],
      "metadata": {
        "colab": {
          "base_uri": "https://localhost:8080/"
        },
        "id": "4xzVYHQiqFrI",
        "outputId": "5ac0f4e8-bef8-4818-c5d0-97fd064f3a15"
      },
      "execution_count": null,
      "outputs": [
        {
          "output_type": "stream",
          "name": "stdout",
          "text": [
            "My Name is Shahzaib\n"
          ]
        }
      ]
    }
  ]
}