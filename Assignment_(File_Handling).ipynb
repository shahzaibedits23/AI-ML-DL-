{
  "nbformat": 4,
  "nbformat_minor": 0,
  "metadata": {
    "colab": {
      "provenance": [],
      "authorship_tag": "ABX9TyP9pVzAED6H5a/PPVAyq/DU",
      "include_colab_link": true
    },
    "kernelspec": {
      "name": "python3",
      "display_name": "Python 3"
    },
    "language_info": {
      "name": "python"
    }
  },
  "cells": [
    {
      "cell_type": "markdown",
      "metadata": {
        "id": "view-in-github",
        "colab_type": "text"
      },
      "source": [
        "<a href=\"https://colab.research.google.com/github/shahzaibedits23/AI-ML-DL-/blob/main/Assignment_(File_Handling).ipynb\" target=\"_parent\"><img src=\"https://colab.research.google.com/assets/colab-badge.svg\" alt=\"Open In Colab\"/></a>"
      ]
    },
    {
      "cell_type": "code",
      "source": [
        "from google.colab import drive\n",
        "drive.mount('/content/drive', force_remount= True)"
      ],
      "metadata": {
        "id": "8AV3Gdz-w_5j",
        "colab": {
          "base_uri": "https://localhost:8080/"
        },
        "outputId": "c21416b0-b58c-4ffc-c276-3e85a298776b"
      },
      "execution_count": null,
      "outputs": [
        {
          "output_type": "stream",
          "name": "stdout",
          "text": [
            "Mounted at /content/drive\n"
          ]
        }
      ]
    },
    {
      "cell_type": "markdown",
      "source": [
        "**Q1: Write to a File**\n",
        "\n",
        "Create a Dart program that takes user input for their name and age and writes it into a file called\n",
        "info.txt."
      ],
      "metadata": {
        "id": "z1YOukQiW4fY"
      }
    },
    {
      "cell_type": "code",
      "source": [
        "file_path = \"/content/drive/MyDrive/Info.txt\"\n",
        "with open (file_path, \"w\") as file:\n",
        "  name = input(\"Wirte your name\")\n",
        "  age = input(\"Write your age\")\n",
        "  file.write(\"Name: \" + name + \"\\n\")\n",
        "  file.write(\"Age: \" + age + \"\\n\")\n",
        "with open (file_path, \"r\") as file:\n",
        "  print(file.read())"
      ],
      "metadata": {
        "colab": {
          "base_uri": "https://localhost:8080/"
        },
        "id": "hWsORMRz516U",
        "outputId": "4514e644-2bca-421a-f9f6-7070aaaec97c"
      },
      "execution_count": null,
      "outputs": [
        {
          "output_type": "stream",
          "name": "stdout",
          "text": [
            "Wirte your nameShahzaib\n",
            "Write your age25\n",
            "Name: Shahzaib\n",
            "Age: 25\n",
            "\n"
          ]
        }
      ]
    },
    {
      "cell_type": "markdown",
      "source": [
        "**Q2: Read from a File**\n",
        "\n",
        "Write a Dart program that reads the content of info.txt (created in Q1) and displays it on the\n",
        "console."
      ],
      "metadata": {
        "id": "5-1zoIO4W-z7"
      }
    },
    {
      "cell_type": "code",
      "source": [
        "file_path = \"/content/drive/MyDrive/Into.txt\"\n",
        "with open(file_path, \"r\") as file:\n",
        "  print(file.read())"
      ],
      "metadata": {
        "colab": {
          "base_uri": "https://localhost:8080/"
        },
        "id": "GldCJlkE4cSj",
        "outputId": "6c69de8e-6a7f-48db-d188-ddd3b3d3eef2"
      },
      "execution_count": null,
      "outputs": [
        {
          "output_type": "stream",
          "name": "stdout",
          "text": [
            "I am going to use this file for my programming class.\n"
          ]
        }
      ]
    },
    {
      "cell_type": "markdown",
      "source": [
        "**Q3: Append to a File**\n",
        "\n",
        "Create a Dart program that appends a new line &quot;This file was updated successfully!&quot; at\n",
        "the end of info.txt without deleting the previous content."
      ],
      "metadata": {
        "id": "m40wXM_MXRq6"
      }
    },
    {
      "cell_type": "code",
      "source": [
        "file_path = \"/content/drive/MyDrive/Text.txt\"\n",
        "with open(file_path, \"a\") as file:\n",
        "  print(\"For this, I am going to use my Drive.\")"
      ],
      "metadata": {
        "colab": {
          "base_uri": "https://localhost:8080/"
        },
        "id": "7pMdW-8dy5Yc",
        "outputId": "c529e465-f72d-40b1-cae1-2e0f19efc22d"
      },
      "execution_count": null,
      "outputs": [
        {
          "output_type": "stream",
          "name": "stdout",
          "text": [
            "For this, I am going to use my Drive.\n"
          ]
        }
      ]
    },
    {
      "cell_type": "markdown",
      "source": [
        "**Q4: Read, Write &amp; Append Together**\n",
        "\n",
        "Write a Dart program that:\n",
        "1. Writes &quot;Welcome to Dart File Handling&quot; to a file named data.txt.\n",
        "2. Reads and prints the content of the file.\n",
        "3. Appends &quot; - End of File&quot; at the end of the file.\n",
        "4. Reads again and shows the updated content."
      ],
      "metadata": {
        "id": "5gixRrWnXYoA"
      }
    },
    {
      "cell_type": "code",
      "source": [
        "file_path = \"/content/drive/MyDrive/data.txt\"\n",
        "with open (file_path, \"w\") as file:\n",
        "  file.write(\"Welcome to Dart File Handling\")\n",
        "with open (file_path, \"r\") as file:\n",
        "  print(file.read())\n",
        "with open(file_path, \"a\") as file:\n",
        "  file.write(\"-End of the file\")\n",
        "with open (file_path, \"r\") as file:\n",
        "  print(file.read())"
      ],
      "metadata": {
        "colab": {
          "base_uri": "https://localhost:8080/"
        },
        "id": "tnmVnQx99dt-",
        "outputId": "62fe66bc-51a3-44ab-ebac-7afeae9a5299"
      },
      "execution_count": null,
      "outputs": [
        {
          "output_type": "stream",
          "name": "stdout",
          "text": [
            "Welcome to Dart File Handling\n",
            "Welcome to Dart File Handling-End of the file\n"
          ]
        }
      ]
    },
    {
      "cell_type": "markdown",
      "source": [
        "**Q5: Copy File Content**\n",
        "\n",
        "Write a Dart program that reads all the content from info.txt and writes it into a new file\n",
        "named copy_info.txt."
      ],
      "metadata": {
        "id": "Z0mfAZMeXiQ1"
      }
    },
    {
      "cell_type": "code",
      "metadata": {
        "colab": {
          "base_uri": "https://localhost:8080/"
        },
        "id": "afb776e8",
        "outputId": "cfdc1e90-33c8-4301-ff14-4078bdc2be6d"
      },
      "source": [
        "file_path = '/content/drive/MyDrive/Info.txt'\n",
        "final_file_path = '/content/drive/MyDrive/copy_info.txt'\n",
        "with open(file_path, 'r') as file:\n",
        "    content = file.read()\n",
        "\n",
        "with open(final_file_path, 'w') as final_file:\n",
        "    final_file.write(content)\n",
        "\n",
        "print('Successfully copied content from info.txt to copy_info.txt')"
      ],
      "execution_count": null,
      "outputs": [
        {
          "output_type": "stream",
          "name": "stdout",
          "text": [
            "Successfully copied content from info.txt to copy_info.txt\n"
          ]
        }
      ]
    },
    {
      "cell_type": "markdown",
      "source": [
        "**Q6: Count Words in a File**\n",
        "\n",
        "Create a Dart program that reads a file data.txt and counts how many words and lines it has,\n",
        "then prints the result."
      ],
      "metadata": {
        "id": "K8e_EjbkXo1B"
      }
    },
    {
      "cell_type": "code",
      "source": [
        "file_path = \"/content/drive/MyDrive/data.txt\"\n",
        "with open(file_path, \"r\") as file:\n",
        "  lines = file.readlines()\n",
        "  file.seek(0)\n",
        "  print(file.read())\n",
        "  file_count = len(lines)\n",
        "print(\"Total number of lines: \", file_count)\n",
        "file = open(file_path, \"r\")\n",
        "data = file.read()\n",
        "words = data.split()\n",
        "word_count = len(words)\n",
        "print(\"Total number of words: \", word_count)"
      ],
      "metadata": {
        "colab": {
          "base_uri": "https://localhost:8080/"
        },
        "id": "enynMdGbLo9h",
        "outputId": "cec21ae2-175c-4143-8bf6-d93f982db188"
      },
      "execution_count": null,
      "outputs": [
        {
          "output_type": "stream",
          "name": "stdout",
          "text": [
            "Welcome to Dart File Handling-End of the file\n",
            "Total number of lines:  1\n",
            "Total number of words:  8\n"
          ]
        }
      ]
    },
    {
      "cell_type": "markdown",
      "source": [
        "**Q7: Merge Two Files**\n",
        "\n",
        "Write a Dart program that takes two files file1.txt and file2.txt and merges their contents\n",
        "into a third file called merged.txt."
      ],
      "metadata": {
        "id": "Lkp4yGtrX4bu"
      }
    },
    {
      "cell_type": "code",
      "metadata": {
        "colab": {
          "base_uri": "https://localhost:8080/"
        },
        "id": "e1ef2a89",
        "outputId": "559e110e-8bac-41bc-a16a-4b20262aa7dd"
      },
      "source": [
        "file1 = '/content/drive/MyDrive/file1.txt'\n",
        "file2 = '/content/drive/MyDrive/file2.txt'\n",
        "file3 = '/content/drive/MyDrive/merged.txt'\n",
        "\n",
        "# Write to file1\n",
        "with open(file1, 'w') as f1:\n",
        "  f1.write(\"My Name is Shahzaib.\") # Added newline for clarity\n",
        "\n",
        "# Write to file2\n",
        "with open(file2, \"w\") as f2:\n",
        "  f2.write(\"I am 25 years old.\") # Added newline for clarity\n",
        "\n",
        "# Write to file3\n",
        "with open(file3, 'w') as f3:\n",
        "  f3.write(\"this is file3\\n\") # Added newline for clarity\n",
        "\n",
        "# Read content from file1\n",
        "with open(file1, 'r') as f1:\n",
        "    file1_content = f1.read()\n",
        "\n",
        "# Read content from file2\n",
        "with open(file2, 'r') as f2:\n",
        "    file2_content = f2.read()\n",
        "\n",
        "# Merge contents into merged.txt\n",
        "with open(file3, 'w') as merged_file:\n",
        "    merged_file.write(file1_content + file2_content)\n",
        "with open(file3, 'r') as merged_file:\n",
        "  print(merged_file.read())\n",
        "\n",
        "print('Successfully merged file1 and file2 into file3')"
      ],
      "execution_count": null,
      "outputs": [
        {
          "output_type": "stream",
          "name": "stdout",
          "text": [
            "My Name is Shahzaib.I am 25 years old.\n",
            "Successfully merged file1 and file2 into file3\n"
          ]
        }
      ]
    }
  ]
}