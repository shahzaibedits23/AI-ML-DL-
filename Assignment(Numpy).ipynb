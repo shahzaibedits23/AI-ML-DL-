{
  "nbformat": 4,
  "nbformat_minor": 0,
  "metadata": {
    "colab": {
      "provenance": [],
      "authorship_tag": "ABX9TyPVEDQzzkrH+/uqhNyW4ID+",
      "include_colab_link": true
    },
    "kernelspec": {
      "name": "python3",
      "display_name": "Python 3"
    },
    "language_info": {
      "name": "python"
    }
  },
  "cells": [
    {
      "cell_type": "markdown",
      "metadata": {
        "id": "view-in-github",
        "colab_type": "text"
      },
      "source": [
        "<a href=\"https://colab.research.google.com/github/shahzaibedits23/AI-ML-DL-/blob/main/Assignment(Numpy).ipynb\" target=\"_parent\"><img src=\"https://colab.research.google.com/assets/colab-badge.svg\" alt=\"Open In Colab\"/></a>"
      ]
    },
    {
      "cell_type": "markdown",
      "source": [
        "1 Create a NumPy array from a Python list [1, 2, 3, 4, 5].\n",
        "\n",
        " Print the array and its type."
      ],
      "metadata": {
        "id": "nCd3TV2dJGAW"
      }
    },
    {
      "cell_type": "code",
      "execution_count": null,
      "metadata": {
        "colab": {
          "base_uri": "https://localhost:8080/"
        },
        "id": "4wsFbJsSI7Cr",
        "outputId": "7ace48e3-6893-4cfb-ad32-25b12c1ef13b"
      },
      "outputs": [
        {
          "output_type": "stream",
          "name": "stdout",
          "text": [
            "[1 2 3 4 5]\n"
          ]
        }
      ],
      "source": [
        "import numpy as np\n",
        "\n",
        "list = [1,2,3,4,5]\n",
        "array = np.array(list)\n",
        "print(array)"
      ]
    },
    {
      "cell_type": "markdown",
      "source": [
        "2 Use np.arange() to create a 1D array of numbers from 10 to 50.\n",
        "\n",
        " Print the shape and size of the array."
      ],
      "metadata": {
        "id": "sB5weThmJX3Q"
      }
    },
    {
      "cell_type": "code",
      "source": [
        "\n",
        "array = np.arange(10,51)\n",
        "print(\"Array:\",array)\n",
        "print(\"Shape:\",array.shape)\n",
        "print(\"Size:\",array.size)"
      ],
      "metadata": {
        "colab": {
          "base_uri": "https://localhost:8080/"
        },
        "id": "QITK3jK4JfvH",
        "outputId": "b96dd6e5-9c67-4771-f3f7-afcd735e4108"
      },
      "execution_count": null,
      "outputs": [
        {
          "output_type": "stream",
          "name": "stdout",
          "text": [
            "Array: [10 11 12 13 14 15 16 17 18 19 20 21 22 23 24 25 26 27 28 29 30 31 32 33\n",
            " 34 35 36 37 38 39 40 41 42 43 44 45 46 47 48 49 50]\n",
            "Shape: (41,)\n",
            "Size: 41\n"
          ]
        }
      ]
    },
    {
      "cell_type": "markdown",
      "source": [
        "3 Create a 2D NumPy array of shape (3, 4) filled with zeros using np.zeros().\n",
        "\n",
        " Convert all zeros into fives."
      ],
      "metadata": {
        "id": "VNSDWf0fKZRa"
      }
    },
    {
      "cell_type": "code",
      "source": [
        "\n",
        "array = np.zeros((3,4))\n",
        "print(array)\n",
        "array[:] = 5\n",
        "print(array)"
      ],
      "metadata": {
        "colab": {
          "base_uri": "https://localhost:8080/"
        },
        "id": "ZnnXzVj3KdwT",
        "outputId": "3996acc6-73c9-4adc-8962-c503779d3e17"
      },
      "execution_count": null,
      "outputs": [
        {
          "output_type": "stream",
          "name": "stdout",
          "text": [
            "[[0. 0. 0. 0.]\n",
            " [0. 0. 0. 0.]\n",
            " [0. 0. 0. 0.]]\n",
            "[[5. 5. 5. 5.]\n",
            " [5. 5. 5. 5.]\n",
            " [5. 5. 5. 5.]]\n"
          ]
        }
      ]
    },
    {
      "cell_type": "markdown",
      "source": [
        "4 Generate a 1D array of 15 random integers between 1 and 100 using np.random.randint().\n",
        "\n",
        " Find the maximum, minimum, and mean values."
      ],
      "metadata": {
        "id": "uZr44xD9K3VL"
      }
    },
    {
      "cell_type": "code",
      "source": [
        "array = np.random.randint(1,101,15)\n",
        "print(array)\n",
        "print(\"Max:\",array.max())\n",
        "print(\"Min:\",array.min())\n",
        "print(\"Mean:\",array.mean())"
      ],
      "metadata": {
        "colab": {
          "base_uri": "https://localhost:8080/"
        },
        "id": "lOi9ylygK7xz",
        "outputId": "67187084-ab0f-4a63-a078-ba921d301c0e"
      },
      "execution_count": null,
      "outputs": [
        {
          "output_type": "stream",
          "name": "stdout",
          "text": [
            "[ 46  39  97  20  43  99  82  17  42  12  85  65  47   5 100]\n",
            "Max: 100\n",
            "Min: 5\n",
            "Mean: 53.266666666666666\n"
          ]
        }
      ]
    },
    {
      "cell_type": "markdown",
      "source": [
        "5 Create a NumPy array of numbers from 1 to 20.\n",
        "\n",
        " Extract only the even numbers using slicing or boolean indexing.\n",
        "\n",
        " Reverse the array using slicing."
      ],
      "metadata": {
        "id": "k7fFEge4LGUf"
      }
    },
    {
      "cell_type": "code",
      "source": [
        "array = np.arange(1,21)\n",
        "print(\"Array\",array)\n",
        "print(\"Even Numbers:\",array[array%2==0])\n",
        "print(\"Reversed Array:\",array[::-1])"
      ],
      "metadata": {
        "colab": {
          "base_uri": "https://localhost:8080/"
        },
        "id": "Srnmr8sVLMi3",
        "outputId": "13ff9507-c6c4-4c5b-c560-8c9917682fd1"
      },
      "execution_count": null,
      "outputs": [
        {
          "output_type": "stream",
          "name": "stdout",
          "text": [
            "Array [ 1  2  3  4  5  6  7  8  9 10 11 12 13 14 15 16 17 18 19 20]\n",
            "Even Numbers [ 2  4  6  8 10 12 14 16 18 20]\n",
            "Reversed Array [20 19 18 17 16 15 14 13 12 11 10  9  8  7  6  5  4  3  2  1]\n"
          ]
        }
      ]
    },
    {
      "cell_type": "markdown",
      "source": [
        "6 Create a NumPy array [10, 20, 30, 40, 50].  Print the first element\n",
        "\n",
        " Print the last element"
      ],
      "metadata": {
        "id": "8CCIKv57LdcE"
      }
    },
    {
      "cell_type": "code",
      "source": [
        "array = np.array([10,20,30,40,50])\n",
        "print(\"First Element:\",array[0])\n",
        "print(\"Second Element:\",array[-1])"
      ],
      "metadata": {
        "colab": {
          "base_uri": "https://localhost:8080/"
        },
        "id": "s8MHz5YYLieK",
        "outputId": "d9dd347e-9471-488a-ea78-31f6d3433f7b"
      },
      "execution_count": null,
      "outputs": [
        {
          "output_type": "stream",
          "name": "stdout",
          "text": [
            "First Element: 10\n",
            "Second Element: 50\n"
          ]
        }
      ]
    },
    {
      "cell_type": "markdown",
      "source": [
        "7 Make a 2D array of shape (4, 4) with numbers from 1 to 16.\n",
        "\n",
        " Extract the first two rows and last two columns.\n",
        "\n",
        " Replace the diagonal elements with 0."
      ],
      "metadata": {
        "id": "BmY8fUkSLm-9"
      }
    },
    {
      "cell_type": "code",
      "source": [
        "import numpy as np\n",
        "array = np.array([[2,3,4,5],[4,3,2,6],[7,8,9,6],[4,2,5,1]])\n",
        "print(array)\n",
        "print(\"First two rows and last two columns:\")\n",
        "print(array[:2,2:])\n",
        "np.fill_diagonal(array,0)\n",
        "print(\"Diahonals replaced with Zero:\")\n",
        "print(array)"
      ],
      "metadata": {
        "colab": {
          "base_uri": "https://localhost:8080/"
        },
        "id": "bnHrhr-gLuZu",
        "outputId": "3922a4c7-c959-4054-92a4-5837ae3abd95"
      },
      "execution_count": null,
      "outputs": [
        {
          "output_type": "stream",
          "name": "stdout",
          "text": [
            "[[2 3 4 5]\n",
            " [4 3 2 6]\n",
            " [7 8 9 6]\n",
            " [4 2 5 1]]\n",
            "First two rows and last two columns:\n",
            "[[4 5]\n",
            " [2 6]]\n",
            "Diahonals replaced with Zero:\n",
            "[[0 3 4 5]\n",
            " [4 0 2 6]\n",
            " [7 8 0 6]\n",
            " [4 2 5 0]]\n"
          ]
        }
      ]
    },
    {
      "cell_type": "markdown",
      "source": [
        "8 Create an array of 25 random integers between 1 and 100.\n",
        "\n",
        " Sort the array using np.sort()."
      ],
      "metadata": {
        "id": "AkJby-8W_Lli"
      }
    },
    {
      "cell_type": "code",
      "source": [
        "import numpy as np\n",
        "array = np.random.randint(1,101,25)\n",
        "print(array)\n",
        "print(\"Sorted Array:\")\n",
        "print(np.sort(array))"
      ],
      "metadata": {
        "colab": {
          "base_uri": "https://localhost:8080/"
        },
        "id": "_4S0hX74_OT2",
        "outputId": "c17b1ce5-40fe-46cb-94a0-4f8fe62cd093"
      },
      "execution_count": null,
      "outputs": [
        {
          "output_type": "stream",
          "name": "stdout",
          "text": [
            "[ 24 100  71  99  31  66  20  83  44  59  88  16  62   1  39   4  10  29\n",
            "  27  46  20  85  79  69  41]\n",
            "Sorted Array:\n",
            "[  1   4  10  16  20  20  24  27  29  31  39  41  44  46  59  62  66  69\n",
            "  71  79  83  85  88  99 100]\n"
          ]
        }
      ]
    },
    {
      "cell_type": "markdown",
      "source": [
        "9 Create a 1D array of numbers from 1 to 10 and find:\n",
        "\n",
        " Maximum (np.max())\n",
        "\n",
        " Minimum (np.min())\n",
        "\n",
        " Sum (np.sum())"
      ],
      "metadata": {
        "id": "olRVvdLu_siW"
      }
    },
    {
      "cell_type": "code",
      "source": [
        "import numpy as np\n",
        "array = np.array([1,2,3,4,5,6,7,8,9,10])\n",
        "print(\"Maximum:\", array.max())\n",
        "print(\"Minimum:\", array.min())\n",
        "print(\"Sum:\", array.sum())"
      ],
      "metadata": {
        "colab": {
          "base_uri": "https://localhost:8080/"
        },
        "id": "QIXpqwn3_ww3",
        "outputId": "b8ba09c6-b885-49d9-ba5d-46443d038f39"
      },
      "execution_count": null,
      "outputs": [
        {
          "output_type": "stream",
          "name": "stdout",
          "text": [
            "Maximum: 10\n",
            "Minimum: 1\n",
            "Sum: 55\n"
          ]
        }
      ]
    },
    {
      "cell_type": "markdown",
      "source": [
        "10 Reshape a 1D array of 36 elements into a 2D array of shape (6, 6).\n",
        "\n",
        " Find the sum of each row and each column using np.sum() with axis."
      ],
      "metadata": {
        "id": "iOp4pYBkAMA6"
      }
    },
    {
      "cell_type": "code",
      "source": [
        "import numpy as np\n",
        "array = np.arange(36).reshape(6,6)\n",
        "print(array)\n",
        "print(\"Sum of each row:\",np.sum(array,axis=1))\n",
        "print(\"Sum of each column:\",np.sum(array,axis=0))"
      ],
      "metadata": {
        "colab": {
          "base_uri": "https://localhost:8080/"
        },
        "id": "fnaKQfddAQps",
        "outputId": "96997d24-2959-4554-fb43-256d367a0bf5"
      },
      "execution_count": null,
      "outputs": [
        {
          "output_type": "stream",
          "name": "stdout",
          "text": [
            "[[ 0  1  2  3  4  5]\n",
            " [ 6  7  8  9 10 11]\n",
            " [12 13 14 15 16 17]\n",
            " [18 19 20 21 22 23]\n",
            " [24 25 26 27 28 29]\n",
            " [30 31 32 33 34 35]]\n",
            "Sum of each row: [ 15  51  87 123 159 195]\n",
            "Sum of each column: [ 90  96 102 108 114 120]\n"
          ]
        }
      ]
    }
  ]
}