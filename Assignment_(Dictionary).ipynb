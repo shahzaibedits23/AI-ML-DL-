{
  "nbformat": 4,
  "nbformat_minor": 0,
  "metadata": {
    "colab": {
      "provenance": [],
      "authorship_tag": "ABX9TyPql661vs3XDqtgjiuMgLZY",
      "include_colab_link": true
    },
    "kernelspec": {
      "name": "python3",
      "display_name": "Python 3"
    },
    "language_info": {
      "name": "python"
    }
  },
  "cells": [
    {
      "cell_type": "markdown",
      "metadata": {
        "id": "view-in-github",
        "colab_type": "text"
      },
      "source": [
        "<a href=\"https://colab.research.google.com/github/shahzaibedits23/AI-ML-DL-/blob/main/Assignment_(Dictionary).ipynb\" target=\"_parent\"><img src=\"https://colab.research.google.com/assets/colab-badge.svg\" alt=\"Open In Colab\"/></a>"
      ]
    },
    {
      "cell_type": "markdown",
      "source": [
        "1. Create a dictionary to store the following student information:\n",
        "\n",
        "\n",
        "o Name: \"Ali\"\n",
        "\n",
        "o Age: 16\n",
        "\n",
        "o Class: \"10th\"\n",
        "\n",
        "Print the dictionary."
      ],
      "metadata": {
        "id": "LgX3ye7XLIaJ"
      }
    },
    {
      "cell_type": "code",
      "metadata": {
        "colab": {
          "base_uri": "https://localhost:8080/"
        },
        "id": "f8ff14c2",
        "outputId": "758fc984-cbdf-4d42-b1b3-ae3b50002d70"
      },
      "source": [
        "student_info = {\n",
        "    \"Name\": \"Ali\",\n",
        "    \"Age\": 16,\n",
        "    \"Class\": \"10th\"\n",
        "}\n",
        "\n",
        "print(student_info)"
      ],
      "execution_count": 1,
      "outputs": [
        {
          "output_type": "stream",
          "name": "stdout",
          "text": [
            "{'Name': 'Ali', 'Age': 16, 'Class': '10th'}\n"
          ]
        }
      ]
    },
    {
      "cell_type": "markdown",
      "source": [
        "2. Write a program to access and print only the Age from the dictionary:"
      ],
      "metadata": {
        "id": "TboKEOYwLWa4"
      }
    },
    {
      "cell_type": "code",
      "metadata": {
        "colab": {
          "base_uri": "https://localhost:8080/"
        },
        "id": "6647cee9",
        "outputId": "9ec68080-8271-4ddb-e701-dfd2497784fa"
      },
      "source": [
        "print(student_info[\"Age\"])"
      ],
      "execution_count": 2,
      "outputs": [
        {
          "output_type": "stream",
          "name": "stdout",
          "text": [
            "16\n"
          ]
        }
      ]
    },
    {
      "cell_type": "markdown",
      "source": [
        "3. Add a new key-value pair \"grade\": \"A\" to the dictionary:"
      ],
      "metadata": {
        "id": "IIEtqPX4LhSr"
      }
    },
    {
      "cell_type": "code",
      "source": [
        "student_info[\"grade\"] = \"A\"\n",
        "print(student_info)"
      ],
      "metadata": {
        "colab": {
          "base_uri": "https://localhost:8080/"
        },
        "id": "Ih1fIwGaLmLa",
        "outputId": "4efbf421-a5e5-4d31-8e1f-8960285c6602"
      },
      "execution_count": 3,
      "outputs": [
        {
          "output_type": "stream",
          "name": "stdout",
          "text": [
            "{'Name': 'Ali', 'Age': 16, 'Class': '10th', 'grade': 'A'}\n"
          ]
        }
      ]
    },
    {
      "cell_type": "markdown",
      "source": [
        "4. Update the age of the following dictionary to 20:"
      ],
      "metadata": {
        "id": "6L8XpW6qLt4n"
      }
    },
    {
      "cell_type": "code",
      "source": [
        "student_info[\"Age\"] = 20\n",
        "print(student_info)"
      ],
      "metadata": {
        "colab": {
          "base_uri": "https://localhost:8080/"
        },
        "id": "qsJWMeStL-yt",
        "outputId": "36684a10-a49f-41df-e20f-35af1c6653ca"
      },
      "execution_count": 4,
      "outputs": [
        {
          "output_type": "stream",
          "name": "stdout",
          "text": [
            "{'Name': 'Ali', 'Age': 20, 'Class': '10th', 'grade': 'A'}\n"
          ]
        }
      ]
    },
    {
      "cell_type": "markdown",
      "source": [
        "5. Write a program to delete the key \"city\" from this dictionary:"
      ],
      "metadata": {
        "id": "i4TMYCnSMHNX"
      }
    },
    {
      "cell_type": "code",
      "source": [
        "# Using pop() with a default value avoids an error if the key doesn't exist\n",
        "student_info.pop(\"city\", None)\n",
        "print(student_info)"
      ],
      "metadata": {
        "colab": {
          "base_uri": "https://localhost:8080/"
        },
        "id": "9oreGhetMIDo",
        "outputId": "e3c37384-aecc-49fd-83a1-fa66216ad4cb"
      },
      "execution_count": 5,
      "outputs": [
        {
          "output_type": "stream",
          "name": "stdout",
          "text": [
            "{'Name': 'Ali', 'Age': 20, 'Class': '10th', 'grade': 'A'}\n"
          ]
        }
      ]
    },
    {
      "cell_type": "markdown",
      "source": [
        "6. Write a program to loop through a dictionary and print all keys and values:"
      ],
      "metadata": {
        "id": "EqC7G7XwMMLJ"
      }
    },
    {
      "cell_type": "code",
      "source": [
        "for key, value in student_info.items():\n",
        "    print(f\"{key}: {value}\")"
      ],
      "metadata": {
        "colab": {
          "base_uri": "https://localhost:8080/"
        },
        "id": "KhpycqF2MNSB",
        "outputId": "6cf51672-695d-4ae9-9bbd-f7fb5dc2f012"
      },
      "execution_count": 6,
      "outputs": [
        {
          "output_type": "stream",
          "name": "stdout",
          "text": [
            "Name: Ali\n",
            "Age: 20\n",
            "Class: 10th\n",
            "grade: A\n"
          ]
        }
      ]
    }
  ]
}