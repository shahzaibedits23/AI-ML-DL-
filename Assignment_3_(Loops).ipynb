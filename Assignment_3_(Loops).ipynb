{
  "nbformat": 4,
  "nbformat_minor": 0,
  "metadata": {
    "colab": {
      "provenance": [],
      "authorship_tag": "ABX9TyOFYdMBZZR8PbFbCiIza4Cl",
      "include_colab_link": true
    },
    "kernelspec": {
      "name": "python3",
      "display_name": "Python 3"
    },
    "language_info": {
      "name": "python"
    }
  },
  "cells": [
    {
      "cell_type": "markdown",
      "metadata": {
        "id": "view-in-github",
        "colab_type": "text"
      },
      "source": [
        "<a href=\"https://colab.research.google.com/github/shahzaibedits23/AI-ML-DL-/blob/main/Assignment_3_(Loops).ipynb\" target=\"_parent\"><img src=\"https://colab.research.google.com/assets/colab-badge.svg\" alt=\"Open In Colab\"/></a>"
      ]
    },
    {
      "cell_type": "markdown",
      "source": [
        "1. Multiplication Table\n",
        "Write a program to generate the multiplication table for a given integer n. Display the\n",
        "multiplication table from 1 to 10 for the entered number."
      ],
      "metadata": {
        "id": "0peEk2wgIHfx"
      }
    },
    {
      "cell_type": "code",
      "metadata": {
        "colab": {
          "base_uri": "https://localhost:8080/"
        },
        "id": "16e544ba",
        "outputId": "218223f1-17fe-41ea-828b-b5413a984bb7"
      },
      "source": [
        "n = int(input(\"Enter an integer: \"))\n",
        "\n",
        "print(f\"Multiplication Table for {n}:\")\n",
        "for i in range(1, 11):\n",
        "    print(f\"{n} x {i} = {n * i}\")"
      ],
      "execution_count": 1,
      "outputs": [
        {
          "output_type": "stream",
          "name": "stdout",
          "text": [
            "Enter an integer: 9\n",
            "Multiplication Table for 9:\n",
            "9 x 1 = 9\n",
            "9 x 2 = 18\n",
            "9 x 3 = 27\n",
            "9 x 4 = 36\n",
            "9 x 5 = 45\n",
            "9 x 6 = 54\n",
            "9 x 7 = 63\n",
            "9 x 8 = 72\n",
            "9 x 9 = 81\n",
            "9 x 10 = 90\n"
          ]
        }
      ]
    },
    {
      "cell_type": "markdown",
      "source": [
        "2. Fibonacci Series\n",
        "Develop a program that displays the Fibonacci series up to a specified number of terms n. The Fibonacci series is a sequence of numbers where each number is the sum of the two preceding ones, starting from 0 and 1. Display the series."
      ],
      "metadata": {
        "id": "d0YHmLrEIbKE"
      }
    },
    {
      "cell_type": "code",
      "source": [
        "n_terms = int(input(\"Enter the number of terms for the Fibonacci series: \"))\n",
        "\n",
        "# Initialize the first two terms\n",
        "a, b = 0, 1\n",
        "\n",
        "print(\"Fibonacci Series:\")\n",
        "\n",
        "# Check if the number of terms is valid\n",
        "if n_terms <= 0:\n",
        "    print(\"Please enter a positive integer.\")\n",
        "elif n_terms == 1:\n",
        "    print(a)\n",
        "else:\n",
        "    print(a)\n",
        "    print(b)\n",
        "    for _ in range(2, n_terms):\n",
        "        next_term = a + b\n",
        "        print(next_term)\n",
        "        a = b\n",
        "        b = next_term"
      ],
      "metadata": {
        "colab": {
          "base_uri": "https://localhost:8080/"
        },
        "id": "kfNwr26gIfx_",
        "outputId": "0d0b96d2-763c-4541-d4a1-be89774bd2b0"
      },
      "execution_count": 2,
      "outputs": [
        {
          "output_type": "stream",
          "name": "stdout",
          "text": [
            "Enter the number of terms for the Fibonacci series: 5\n",
            "Fibonacci Series:\n",
            "0\n",
            "1\n",
            "1\n",
            "2\n",
            "3\n"
          ]
        }
      ]
    },
    {
      "cell_type": "markdown",
      "source": [
        "3. Prime Number Checker\n",
        "Create a program that checks whether a given number n is a prime number or not. Aprime number is a natural number greater than 1 that has no positive divisors other than 1 and itself. Display whether the number is prime or not."
      ],
      "metadata": {
        "id": "vN7r22SGI207"
      }
    },
    {
      "cell_type": "code",
      "source": [
        "n = int(input(\"Enter an integer to check if it's prime: \"))\n",
        "\n",
        "if n > 1:\n",
        "    for i in range(2, int(n**0.5) + 1):\n",
        "        if (n % i) == 0:\n",
        "            print(f\"{n} is not a prime number.\")\n",
        "            break\n",
        "    else:\n",
        "        print(f\"{n} is a prime number.\")\n",
        "else:\n",
        "    print(f\"{n} is not a prime number.\")"
      ],
      "metadata": {
        "colab": {
          "base_uri": "https://localhost:8080/"
        },
        "id": "GNk97MNRI7A0",
        "outputId": "0a4dce19-0f08-4efb-cc96-1b76b21e33b2"
      },
      "execution_count": 3,
      "outputs": [
        {
          "output_type": "stream",
          "name": "stdout",
          "text": [
            "Enter an integer to check if it's prime: 4\n",
            "4 is not a prime number.\n"
          ]
        }
      ]
    },
    {
      "cell_type": "markdown",
      "source": [
        "4. Power Calculation\n",
        "Write a program that calculates the power of a given base b raised to an exponent e.\n",
        "Prompt the user to enter the values of b and e, then display the result."
      ],
      "metadata": {
        "id": "-klqwFP2JDKr"
      }
    },
    {
      "cell_type": "code",
      "metadata": {
        "colab": {
          "base_uri": "https://localhost:8080/"
        },
        "id": "0c694771",
        "outputId": "e087954c-25d3-496d-f60b-d9e53f063375"
      },
      "source": [
        "b = float(input(\"Enter the base: \"))\n",
        "e = float(input(\"Enter the exponent: \"))\n",
        "\n",
        "result = b ** e\n",
        "\n",
        "print(f\"{b} raised to the power of {e} is {result}\")"
      ],
      "execution_count": 4,
      "outputs": [
        {
          "output_type": "stream",
          "name": "stdout",
          "text": [
            "Enter the base: 5\n",
            "Enter the exponent: 3\n",
            "5.0 raised to the power of 3.0 is 125.0\n"
          ]
        }
      ]
    },
    {
      "cell_type": "markdown",
      "source": [
        "5. Reverse Number\n",
        "Develop a program that reverses a given integer n. For example, if the input is 123, the output should be 321. Display the reversed number."
      ],
      "metadata": {
        "id": "fs-xbwWeJUyS"
      }
    },
    {
      "cell_type": "code",
      "source": [
        "n = int(input(\"Enter an integer to reverse: \"))\n",
        "\n",
        "reversed_n = 0\n",
        "original_n = n # Store the original number for printing\n",
        "\n",
        "while n > 0:\n",
        "    digit = n % 10  # Get the last digit\n",
        "    reversed_n = reversed_n * 10 + digit  # Add the digit to the reversed number\n",
        "    n = n // 10  # Remove the last digit\n",
        "\n",
        "print(f\"The reversed number of {original_n} is {reversed_n}\")"
      ],
      "metadata": {
        "colab": {
          "base_uri": "https://localhost:8080/"
        },
        "id": "wCxVaQBtJacI",
        "outputId": "037073b3-057f-4c56-db16-ce14811d8ccc"
      },
      "execution_count": 7,
      "outputs": [
        {
          "output_type": "stream",
          "name": "stdout",
          "text": [
            "Enter an integer to reverse: 4\n",
            "The reversed number of 4 is 4\n"
          ]
        }
      ]
    },
    {
      "cell_type": "markdown",
      "source": [
        "6. Guess Until Correct\n",
        "Keep asking the user to guess a secret number until they get it right. Use break when\n",
        "guessed correctly."
      ],
      "metadata": {
        "id": "Dj72GIkYJnVT"
      }
    },
    {
      "cell_type": "code",
      "metadata": {
        "colab": {
          "base_uri": "https://localhost:8080/"
        },
        "id": "8dbfa995",
        "outputId": "10eabc89-9e99-4653-d504-ee99513b046c"
      },
      "source": [
        "import random\n",
        "\n",
        "secret_number = random.randint(1, 100)  # Generate a random secret number between 1 and 100\n",
        "\n",
        "while True:\n",
        "    guess = int(input(\"Guess the secret number (between 1 and 100): \"))\n",
        "    if guess == secret_number:\n",
        "        print(\"Congratulations! You guessed the secret number correctly!\")\n",
        "        break\n",
        "    elif guess < secret_number:\n",
        "        print(\"Too low! Try again.\")\n",
        "    else:\n",
        "        print(\"Too high! Try again.\")"
      ],
      "execution_count": 8,
      "outputs": [
        {
          "output_type": "stream",
          "name": "stdout",
          "text": [
            "Guess the secret number (between 1 and 100): 67\n",
            "Too low! Try again.\n",
            "Guess the secret number (between 1 and 100): 90\n",
            "Too low! Try again.\n",
            "Guess the secret number (between 1 and 100): 100\n",
            "Too high! Try again.\n",
            "Guess the secret number (between 1 and 100): 95\n",
            "Too low! Try again.\n",
            "Guess the secret number (between 1 and 100): 99\n",
            "Too high! Try again.\n",
            "Guess the secret number (between 1 and 100): 98\n",
            "Too high! Try again.\n",
            "Guess the secret number (between 1 and 100): 97\n",
            "Congratulations! You guessed the secret number correctly!\n"
          ]
        }
      ]
    }
  ]
}