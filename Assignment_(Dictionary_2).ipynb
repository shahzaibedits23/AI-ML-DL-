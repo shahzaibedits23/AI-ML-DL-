{
  "nbformat": 4,
  "nbformat_minor": 0,
  "metadata": {
    "colab": {
      "provenance": [],
      "authorship_tag": "ABX9TyN7HxH0IWQtkH8OxN79dylf",
      "include_colab_link": true
    },
    "kernelspec": {
      "name": "python3",
      "display_name": "Python 3"
    },
    "language_info": {
      "name": "python"
    }
  },
  "cells": [
    {
      "cell_type": "markdown",
      "metadata": {
        "id": "view-in-github",
        "colab_type": "text"
      },
      "source": [
        "<a href=\"https://colab.research.google.com/github/shahzaibedits23/AI-ML-DL-/blob/main/Assignment_(Dictionary_2).ipynb\" target=\"_parent\"><img src=\"https://colab.research.google.com/assets/colab-badge.svg\" alt=\"Open In Colab\"/></a>"
      ]
    },
    {
      "cell_type": "markdown",
      "source": [
        "Q1: Create a dictionary with 3 fruits and their prices. Print the price of one fruit."
      ],
      "metadata": {
        "id": "1OrnJAfzNCq5"
      }
    },
    {
      "cell_type": "code",
      "execution_count": 1,
      "metadata": {
        "colab": {
          "base_uri": "https://localhost:8080/"
        },
        "id": "iBMNffpQM0H5",
        "outputId": "8dc53ad3-e50a-445e-b48f-1b1cc9e4ed3f"
      },
      "outputs": [
        {
          "output_type": "stream",
          "name": "stdout",
          "text": [
            "1.0\n"
          ]
        }
      ],
      "source": [
        "fruits = {'apple': 1.0, 'banana': 0.5, 'orange': 0.75}\n",
        "print(fruits['apple'])"
      ]
    },
    {
      "cell_type": "markdown",
      "source": [
        "Q2: Make a dictionary of 3 students with their names as keys and marks as values. Print all the\n",
        "keys (names)."
      ],
      "metadata": {
        "id": "Nn-mwsdPNInb"
      }
    },
    {
      "cell_type": "code",
      "source": [
        "students = {'Alice': 90, 'Bob': 85, 'Charlie': 92}\n",
        "print(students.keys())"
      ],
      "metadata": {
        "colab": {
          "base_uri": "https://localhost:8080/"
        },
        "id": "bCGOg4WsNLxl",
        "outputId": "6401c877-484c-4e32-d756-7a61305afc9a"
      },
      "execution_count": 2,
      "outputs": [
        {
          "output_type": "stream",
          "name": "stdout",
          "text": [
            "dict_keys(['Alice', 'Bob', 'Charlie'])\n"
          ]
        }
      ]
    },
    {
      "cell_type": "markdown",
      "source": [
        "Q3: Create a dictionary of 5 countries and their capitals. Ask the user to input a country and print\n",
        "its capital."
      ],
      "metadata": {
        "id": "s8ILovbMNSlv"
      }
    },
    {
      "cell_type": "code",
      "source": [
        "countries = {\n",
        "    'USA': 'Washington D.C.',\n",
        "    'Canada': 'Ottawa',\n",
        "    'Mexico': 'Mexico City',\n",
        "    'France': 'Paris',\n",
        "    'Germany': 'Berlin'\n",
        "}\n",
        "\n",
        "country_input = input(\"Enter a country name: \")\n",
        "\n",
        "if country_input in countries:\n",
        "    print(countries[country_input])\n",
        "else:\n",
        "    print(\"Country not found in the dictionary.\")"
      ],
      "metadata": {
        "colab": {
          "base_uri": "https://localhost:8080/"
        },
        "id": "TVOMPTOFNVYG",
        "outputId": "912a9539-899d-4268-97a1-9cf0b90ac9af"
      },
      "execution_count": 3,
      "outputs": [
        {
          "output_type": "stream",
          "name": "stdout",
          "text": [
            "Enter a country name: pakistan\n",
            "Country not found in the dictionary.\n"
          ]
        }
      ]
    },
    {
      "cell_type": "markdown",
      "source": [
        "Q4: Create a dictionary with numbers as keys and their squares as values (for numbers 1 to 5)."
      ],
      "metadata": {
        "id": "T2yEWNN-Ngcg"
      }
    },
    {
      "cell_type": "code",
      "source": [
        "squares = {num: num**2 for num in range(1, 6)}\n",
        "print(squares)"
      ],
      "metadata": {
        "colab": {
          "base_uri": "https://localhost:8080/"
        },
        "id": "Z1AyzOTeNkHS",
        "outputId": "690a2b9e-7580-48b8-a6d2-61f473145417"
      },
      "execution_count": 4,
      "outputs": [
        {
          "output_type": "stream",
          "name": "stdout",
          "text": [
            "{1: 1, 2: 4, 3: 9, 4: 16, 5: 25}\n"
          ]
        }
      ]
    },
    {
      "cell_type": "markdown",
      "source": [
        "Q5: Create a dictionary of a person with keys: name, age, city. Change the city to another one\n",
        "and print the updated dictionary."
      ],
      "metadata": {
        "id": "IOeER0jpN3Q1"
      }
    },
    {
      "cell_type": "code",
      "source": [
        "person = {'name': 'Alice', 'age': 30, 'city': 'New York'}\n",
        "person['city'] = 'Los Angeles'\n",
        "print(person)"
      ],
      "metadata": {
        "colab": {
          "base_uri": "https://localhost:8080/"
        },
        "id": "cl71ucKBN4AK",
        "outputId": "e32b3d68-e4bd-4eef-d150-ac805c918548"
      },
      "execution_count": 5,
      "outputs": [
        {
          "output_type": "stream",
          "name": "stdout",
          "text": [
            "{'name': 'Alice', 'age': 30, 'city': 'Los Angeles'}\n"
          ]
        }
      ]
    },
    {
      "cell_type": "markdown",
      "source": [
        "Q6: Create a dictionary of items in a store with their quantities. Add a new item to the dictionary\n",
        "and print it."
      ],
      "metadata": {
        "id": "buBT0GJWN9hk"
      }
    },
    {
      "cell_type": "code",
      "source": [
        "store_items = {'apples': 100, 'bananas': 150, 'oranges': 75}\n",
        "store_items['grapes'] = 200\n",
        "print(store_items)"
      ],
      "metadata": {
        "colab": {
          "base_uri": "https://localhost:8080/"
        },
        "id": "18WpbpgNOBmf",
        "outputId": "c0d86fdd-eac9-42e6-8489-2e180d7d1703"
      },
      "execution_count": 6,
      "outputs": [
        {
          "output_type": "stream",
          "name": "stdout",
          "text": [
            "{'apples': 100, 'bananas': 150, 'oranges': 75, 'grapes': 200}\n"
          ]
        }
      ]
    },
    {
      "cell_type": "markdown",
      "source": [
        "Q7: Create a dictionary of student marks. Find and print the student with the highest marks"
      ],
      "metadata": {
        "id": "h53CTTc3OHiD"
      }
    },
    {
      "cell_type": "code",
      "source": [
        "student_marks = {'Alice': 90, 'Bob': 85, 'Charlie': 92, 'David': 88, 'Eve': 95}\n",
        "\n",
        "highest_marks_student = max(student_marks, key=student_marks.get)\n",
        "\n",
        "print(f\"The student with the highest marks is: {highest_marks_student}\")"
      ],
      "metadata": {
        "colab": {
          "base_uri": "https://localhost:8080/"
        },
        "id": "ysboyFN6OIJl",
        "outputId": "28950596-5cd1-444a-b795-144d1b62130c"
      },
      "execution_count": 7,
      "outputs": [
        {
          "output_type": "stream",
          "name": "stdout",
          "text": [
            "The student with the highest marks is: Eve\n"
          ]
        }
      ]
    },
    {
      "cell_type": "markdown",
      "source": [
        "Q8: Make a nested dictionary:\n",
        "students = {\n",
        " \"Ali\": {\"age\": 20, \"grade\": \"A\"},\n",
        " \"Sara\": {\"age\": 22, \"grade\": \"B\"}\n",
        "}\n",
        "\n",
        "Print only the grades of all students."
      ],
      "metadata": {
        "id": "sJ4Rm6CHONbp"
      }
    },
    {
      "cell_type": "code",
      "source": [
        "students = {\n",
        "\"Ali\": {\"age\": 20, \"grade\": \"A\"},\n",
        "\"Sara\": {\"age\": 22, \"grade\": \"B\"}\n",
        "}\n",
        "\n",
        "for student_name, student_info in students.items():\n",
        "    print(f\"{student_name}: {student_info['grade']}\")"
      ],
      "metadata": {
        "colab": {
          "base_uri": "https://localhost:8080/"
        },
        "id": "33kyqV06ORFd",
        "outputId": "87b7d0b6-c4cd-47a1-e0fb-3aa1cf80063e"
      },
      "execution_count": 9,
      "outputs": [
        {
          "output_type": "stream",
          "name": "stdout",
          "text": [
            "Ali: A\n",
            "Sara: B\n"
          ]
        }
      ]
    },
    {
      "cell_type": "markdown",
      "source": [
        "Q9: Create a dictionary and remove one key-value pair using pop(). Print the updated\n",
        "dictionary."
      ],
      "metadata": {
        "id": "ET9EJl2zOgD9"
      }
    },
    {
      "cell_type": "code",
      "source": [
        "my_dict = {'a': 1, 'b': 2, 'c': 3}\n",
        "removed_value = my_dict.pop('b')\n",
        "print(f\"Removed value: {removed_value}\")\n",
        "print(f\"Updated dictionary: {my_dict}\")"
      ],
      "metadata": {
        "colab": {
          "base_uri": "https://localhost:8080/"
        },
        "id": "IEbCxBWcOjdW",
        "outputId": "0342be7b-50ee-425f-a34f-c74a5998eda6"
      },
      "execution_count": 10,
      "outputs": [
        {
          "output_type": "stream",
          "name": "stdout",
          "text": [
            "Removed value: 2\n",
            "Updated dictionary: {'a': 1, 'c': 3}\n"
          ]
        }
      ]
    }
  ]
}