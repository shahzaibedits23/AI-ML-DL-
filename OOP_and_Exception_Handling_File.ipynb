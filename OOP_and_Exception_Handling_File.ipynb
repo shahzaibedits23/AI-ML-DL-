{
  "nbformat": 4,
  "nbformat_minor": 0,
  "metadata": {
    "colab": {
      "provenance": [],
      "include_colab_link": true
    },
    "kernelspec": {
      "name": "python3",
      "display_name": "Python 3"
    },
    "language_info": {
      "name": "python"
    }
  },
  "cells": [
    {
      "cell_type": "markdown",
      "metadata": {
        "id": "view-in-github",
        "colab_type": "text"
      },
      "source": [
        "<a href=\"https://colab.research.google.com/github/shahzaibedits23/AI-ML-DL-/blob/main/OOP_and_Exception_Handling_File.ipynb\" target=\"_parent\"><img src=\"https://colab.research.google.com/assets/colab-badge.svg\" alt=\"Open In Colab\"/></a>"
      ]
    },
    {
      "cell_type": "markdown",
      "source": [
        "1 Create a class Car with members brand, model, and year.\n",
        " Add a method car_info() that prints the details of the car.\n",
        " Create two objects of the class and call the method for both."
      ],
      "metadata": {
        "id": "u10TB6asUNlZ"
      }
    },
    {
      "cell_type": "code",
      "source": [
        "class Car:\n",
        "    def __init__(self,brand,model,year):\n",
        "      self.brand=brand\n",
        "      self.model=model\n",
        "      self.year=year\n",
        "    def car_info(self):\n",
        "        print(f\"brand:{self.brand}\\nModel:{self.model}\\nYear:{self.year}\")\n",
        "car= Car(\"Toyota\",\"Camry\",2022)\n",
        "car1= Car(\"Honda\",\"Civic\",2021)\n",
        "car.car_info()\n",
        "car1.car_info()\n"
      ],
      "metadata": {
        "colab": {
          "base_uri": "https://localhost:8080/"
        },
        "id": "hAxI4MOdUQBd",
        "outputId": "732f834d-b795-43fc-9079-db2ea040bb45"
      },
      "execution_count": null,
      "outputs": [
        {
          "output_type": "stream",
          "name": "stdout",
          "text": [
            "brand:Toyota\n",
            "Model:Camry\n",
            "Year:2022\n",
            "brand:Honda\n",
            "Model:Civic\n",
            "Year:2021\n"
          ]
        }
      ]
    },
    {
      "cell_type": "markdown",
      "source": [
        "2 Create a class Student with members name, roll_no, and marks.\n",
        " Add a method display_result() that prints whether the student has passed (marks ≥ 40) or\n",
        "failed.\n",
        " Create at least two objects and call the method."
      ],
      "metadata": {
        "id": "DSMRAYJlp8mV"
      }
    },
    {
      "cell_type": "code",
      "metadata": {
        "colab": {
          "base_uri": "https://localhost:8080/"
        },
        "id": "a7fc6e20",
        "outputId": "f05c992b-7efc-42cd-d43e-b1d51d4189ad"
      },
      "source": [
        "class Student:\n",
        "    def __init__(self, name, roll_no, marks):\n",
        "        self.name = name\n",
        "        self.roll_no = roll_no\n",
        "        self.marks = marks\n",
        "\n",
        "    def display_result(self):\n",
        "        if self.marks >= 40:\n",
        "            print(f\"{self.name} (Roll No. {self.roll_no}) has Passed.\")\n",
        "        else:\n",
        "            print(f\"{self.name} (Roll No. {self.roll_no}) has Failed.\")\n",
        "\n",
        "# Create two student objects\n",
        "student1 = Student(\"Burhan\", 101, 75)\n",
        "student2 = Student(\"Hanan\", 102, 35)\n",
        "\n",
        "# Call the display_result method for both objects\n",
        "student1.display_result()\n",
        "student2.display_result()"
      ],
      "execution_count": null,
      "outputs": [
        {
          "output_type": "stream",
          "name": "stdout",
          "text": [
            "Burhan (Roll No. 101) has Passed.\n",
            "Hanan (Roll No. 102) has Failed.\n"
          ]
        }
      ]
    },
    {
      "cell_type": "markdown",
      "source": [
        "3 Create a class Calculator with methods:\n",
        " add(x, y) → returns sum\n",
        " subtract(x, y) → returns difference\n",
        " multiply(x, y) → returns product\n",
        " divide(x, y) → returns quotient (if y ≠ 0)\n",
        " Create one object and use it to perform all operations."
      ],
      "metadata": {
        "id": "EWiHAqakqyD1"
      }
    },
    {
      "cell_type": "code",
      "metadata": {
        "colab": {
          "base_uri": "https://localhost:8080/"
        },
        "id": "8f7e86ac",
        "outputId": "2f31daf3-09c0-4877-b631-848062974347"
      },
      "source": [
        "class Calculator:\n",
        "    def add(self, x, y):\n",
        "        return x + y\n",
        "\n",
        "    def subtract(self, x, y):\n",
        "        return x - y\n",
        "\n",
        "    def multiply(self, x, y):\n",
        "        return x * y\n",
        "\n",
        "    def divide(self, x, y):\n",
        "        if y != 0:\n",
        "            return x / y\n",
        "        else:\n",
        "            return \"Cannot divide by zero\"\n",
        "\n",
        "# Create a Calculator object\n",
        "calculator = Calculator()\n",
        "\n",
        "# Perform operations and print results\n",
        "print(f\"Addition: {calculator.add(10, 5)}\")\n",
        "print(f\"Subtraction: {calculator.subtract(10, 5)}\")\n",
        "print(f\"Multiplication: {calculator.multiply(10, 5)}\")\n",
        "print(f\"Division: {calculator.divide(10, 5)}\")\n",
        "print(f\"Division by zero: {calculator.divide(10, 0)}\")"
      ],
      "execution_count": null,
      "outputs": [
        {
          "output_type": "stream",
          "name": "stdout",
          "text": [
            "Addition: 15\n",
            "Subtraction: 5\n",
            "Multiplication: 50\n",
            "Division: 2.0\n",
            "Division by zero: Cannot divide by zero\n"
          ]
        }
      ]
    },
    {
      "cell_type": "markdown",
      "source": [
        "4 Create a class Book with attributes title, author, and price.\n",
        " Add a method discounted_price(discount_percentage) that returns the price after applying\n",
        "discount.\n",
        " Create two objects and print their discounted prices."
      ],
      "metadata": {
        "id": "7Itjn-ePrPYW"
      }
    },
    {
      "cell_type": "code",
      "metadata": {
        "colab": {
          "base_uri": "https://localhost:8080/"
        },
        "id": "67bcfc87",
        "outputId": "e697b19a-aa75-425f-9788-9e912cef04d2"
      },
      "source": [
        "class Book:\n",
        "    def __init__(self, title, author, price):\n",
        "        self.title = title\n",
        "        self.author = author\n",
        "        self.price = price\n",
        "\n",
        "    def discounted_price(self, discount_percentage):\n",
        "        if 0 <= discount_percentage <= 100:\n",
        "            discount_amount = self.price * (discount_percentage / 100)\n",
        "            return self.price - discount_amount\n",
        "        else:\n",
        "            return \"Invalid discount percentage\"\n",
        "\n",
        "# Create two book objects\n",
        "book1 = Book(\"Statistics-I\", \"Sammi Ul Allah\", 20)\n",
        "book2 = Book(\"Statistics-II\", \"Sammi Ul Allah\", 15)\n",
        "\n",
        "# Calculate and print discounted prices\n",
        "discount_rate = 10  # 10% discount\n",
        "print(f\"Discounted price of '{book1.title}': ${book1.discounted_price(discount_rate)}\")\n",
        "print(f\"Discounted price of '{book2.title}': ${book2.discounted_price(discount_rate)}\")"
      ],
      "execution_count": null,
      "outputs": [
        {
          "output_type": "stream",
          "name": "stdout",
          "text": [
            "Discounted price of 'Statistics-I': $18.0\n",
            "Discounted price of 'Statistics-II': $13.5\n"
          ]
        }
      ]
    },
    {
      "cell_type": "markdown",
      "source": [
        "# Inheritance\n",
        "6. Create a base class Animal with a method sound().\n",
        "o Create a child class Dog that overrides the method to print &quot;Woof!&quot;.\n",
        "o Create another child class Cat that prints &quot;Meow!&quot;.\n",
        "o Create objects of Dog and Cat and call their sound method."
      ],
      "metadata": {
        "id": "td_QFNRcs0Qf"
      }
    },
    {
      "cell_type": "code",
      "metadata": {
        "colab": {
          "base_uri": "https://localhost:8080/"
        },
        "id": "8db26a1c",
        "outputId": "11520e8f-7f8e-4866-c770-b8af44fc91ba"
      },
      "source": [
        "class Animal:\n",
        "    def sound(self):\n",
        "\n",
        "     class Dog(Animal):\n",
        "      def sound(self):\n",
        "        print(\"Woof!\")\n",
        "\n",
        "class Cat(Animal):\n",
        "    def sound(self):\n",
        "        print(\"Meow!\")\n",
        "\n",
        "# Create objects of Dog and Cat\n",
        "dog = Dog()\n",
        "cat = Cat()\n",
        "\n",
        "# Call the sound method for each object\n",
        "dog.sound()\n",
        "cat.sound()"
      ],
      "execution_count": null,
      "outputs": [
        {
          "output_type": "stream",
          "name": "stdout",
          "text": [
            "Woof!\n",
            "Meow!\n"
          ]
        }
      ]
    },
    {
      "cell_type": "markdown",
      "source": [
        "# Multiple Inheritance\n",
        "7. Create two classes Father and Mother.\n",
        "o Father has a method skills() that prints &quot;Driving, Teaching&quot;.\n",
        "o Mother has a method skills() that prints &quot;Cooking, Painting&quot;.\n",
        "o Create a child class Child that inherits from both and has its own skills() method\n",
        "that calls both parents&#39; methods and adds &quot;Programming&quot;."
      ],
      "metadata": {
        "id": "jI5EutuXtlKj"
      }
    },
    {
      "cell_type": "code",
      "source": [],
      "metadata": {
        "id": "Pqwn60s-ts9y"
      },
      "execution_count": null,
      "outputs": []
    },
    {
      "cell_type": "code",
      "metadata": {
        "colab": {
          "base_uri": "https://localhost:8080/"
        },
        "id": "c55278a0",
        "outputId": "bee8336e-6a17-444f-fcf6-4176a12b6579"
      },
      "source": [
        "class Father:\n",
        "    def skills(self):\n",
        "        print(\"Driving, Teaching\")\n",
        "\n",
        "class Mother:\n",
        "    def skills(self):\n",
        "        print(\"Cooking, Painting\")\n",
        "\n",
        "class Child(Father, Mother):\n",
        "    def skills(self):\n",
        "        # Call parent class methods\n",
        "        super().skills()  # Calls the skills() method of the first parent (Father)\n",
        "        Mother.skills(self) # Explicitly calls the skills() method of the second parent (Mother)\n",
        "        print(\"Programming\")\n",
        "\n",
        "# Create a Child object and call the skills method\n",
        "child = Child()\n",
        "child.skills()"
      ],
      "execution_count": null,
      "outputs": [
        {
          "output_type": "stream",
          "name": "stdout",
          "text": [
            "Driving, Teaching\n",
            "Cooking, Painting\n",
            "Programming\n"
          ]
        }
      ]
    },
    {
      "cell_type": "markdown",
      "source": [
        "# Multilevel Inheritance\n",
        "8. Create a base class Grandparent with a method show_generation() printing &quot;I am Grandparent&quot;.\n",
        "o Create a class Parent inheriting from Grandparent and override the method to print\n",
        "&quot;I am Parent&quot;.\n",
        "o Create a class Child inheriting from Parent and override the method to print &quot;I am\n",
        "Child&quot;.\n",
        "o Create an object of Child and call show_generation()."
      ],
      "metadata": {
        "id": "Hgl-oZoGuCrO"
      }
    },
    {
      "cell_type": "code",
      "metadata": {
        "colab": {
          "base_uri": "https://localhost:8080/"
        },
        "id": "1bdc34bb",
        "outputId": "b1288a6d-4f4a-4d75-e61f-2d34b5e20a83"
      },
      "source": [
        "class Grandparent:\n",
        "    def show_generation(self):\n",
        "        print(\"I am Grandparent\")\n",
        "\n",
        "class Parent(Grandparent):\n",
        "    def show_generation(self):\n",
        "        print(\"I am Parent\")\n",
        "\n",
        "class Child(Parent):\n",
        "    def show_generation(self):\n",
        "        print(\"I am Child\")\n",
        "\n",
        "# Create an object of Child\n",
        "child = Child()\n",
        "\n",
        "# Call the show_generation method\n",
        "child.show_generation()"
      ],
      "execution_count": null,
      "outputs": [
        {
          "output_type": "stream",
          "name": "stdout",
          "text": [
            "I am Child\n"
          ]
        }
      ]
    }
  ]
}