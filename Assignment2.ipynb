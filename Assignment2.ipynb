{
  "nbformat": 4,
  "nbformat_minor": 0,
  "metadata": {
    "colab": {
      "provenance": [],
      "authorship_tag": "ABX9TyOgLIL/2wx260vk8dX0SrbY",
      "include_colab_link": true
    },
    "kernelspec": {
      "name": "python3",
      "display_name": "Python 3"
    },
    "language_info": {
      "name": "python"
    }
  },
  "cells": [
    {
      "cell_type": "markdown",
      "metadata": {
        "id": "view-in-github",
        "colab_type": "text"
      },
      "source": [
        "<a href=\"https://colab.research.google.com/github/shahzaibedits23/AI-ML-DL-/blob/main/Assignment2.ipynb\" target=\"_parent\"><img src=\"https://colab.research.google.com/assets/colab-badge.svg\" alt=\"Open In Colab\"/></a>"
      ]
    },
    {
      "cell_type": "code",
      "execution_count": null,
      "metadata": {
        "colab": {
          "base_uri": "https://localhost:8080/"
        },
        "id": "GZ-dQcNUqgXb",
        "outputId": "1aade580-0cfb-43ea-995e-4e13a0464499"
      },
      "outputs": [
        {
          "output_type": "stream",
          "name": "stdout",
          "text": [
            "For the first rectangle:\n",
            "Enter the length of the first rectangle: 4\n",
            "Enter the width of the first rectangle: 3\n",
            "For the second rectangle:\n",
            "Enter the length of the second rectangle: 9\n",
            "Enter the width of the second rectangle: 6\n",
            "Area of the first rectangle is 12.0\n",
            "Area of the second rectangle is 54.0\n",
            "The second rectangle has a larger area.\n"
          ]
        }
      ],
      "source": [
        "# Comparing Area of Rectangles\n",
        "def calculate_rectangle_area(length, width):\n",
        "  return length * width\n",
        "\n",
        "def compare_rectangle_areas():\n",
        "    print(\"For the first rectangle:\")\n",
        "    length1 = float(input(\"Enter the length of the first rectangle: \"))\n",
        "    width1 = float(input(\"Enter the width of the first rectangle: \"))\n",
        "\n",
        "    print(\"For the second rectangle:\")\n",
        "    length2 = float(input(\"Enter the length of the second rectangle: \"))\n",
        "    width2 = float(input(\"Enter the width of the second rectangle: \"))\n",
        "\n",
        "    area1 = calculate_rectangle_area(length1, width1)\n",
        "    area2 = calculate_rectangle_area(length2, width2)\n",
        "\n",
        "    print(\"Area of the first rectangle is\",area1)\n",
        "    print(\"Area of the second rectangle is\",area2)\n",
        "\n",
        "    if area1 > area2:\n",
        "      print(\"The first rectangle has a larger area.\")\n",
        "    elif area2 > area1:\n",
        "      print(\"The second rectangle has a larger area.\")\n",
        "    else:\n",
        "      print(\"Both rectangles have the same area.\")\n",
        "\n",
        "# Call the function to run the comparison\n",
        "compare_rectangle_areas()"
      ]
    },
    {
      "cell_type": "code",
      "source": [
        "number = int(input(\"Enter a number: \"))\n",
        "if number % 2 == 0:\n",
        "    print(\"Number is Even.\")\n",
        "elif number == 0:\n",
        "    print(\"Number is zero.\")\n",
        "else:\n",
        "    print(\"Number is Odd.\")"
      ],
      "metadata": {
        "colab": {
          "base_uri": "https://localhost:8080/"
        },
        "id": "C0WUReAus9f3",
        "outputId": "fd812fa6-c240-484d-ab34-a81a764b6d3f"
      },
      "execution_count": null,
      "outputs": [
        {
          "output_type": "stream",
          "name": "stdout",
          "text": [
            "Enter a number: 0\n",
            "Number is Even.\n"
          ]
        }
      ]
    },
    {
      "cell_type": "code",
      "source": [
        "def calculate_income_tax(salary):\n",
        "  # Calculates income tax based on salary\n",
        "  if salary > 100000:\n",
        "    tax_rate = 0.20\n",
        "  elif salary > 50000:\n",
        "    tax_rate = 0.10\n",
        "  else:\n",
        "    tax_rate = 0.05\n",
        "  return salary * tax_rate\n",
        "\n",
        "def calculate_salary_after_tax():\n",
        "  # Takes salary input, calculates tax and salary after tax\n",
        "\n",
        "    salary = float(input(\"Enter your annual salary: \"))\n",
        "    income_tax = calculate_income_tax(salary)\n",
        "    salary_after_tax = salary - income_tax\n",
        "    print(f\"Income Tax: {income_tax:.2f}\")\n",
        "    print(f\"Salary after tax: {salary_after_tax:.2f}\")\n",
        "\n",
        "# Call the function to calculate and display salary after tax\n",
        "calculate_salary_after_tax()"
      ],
      "metadata": {
        "colab": {
          "base_uri": "https://localhost:8080/"
        },
        "id": "NYD0JMOhtXWY",
        "outputId": "d06b4d8e-0877-4cbe-a4e2-bd5e80349eae"
      },
      "execution_count": null,
      "outputs": [
        {
          "output_type": "stream",
          "name": "stdout",
          "text": [
            "Enter your annual salary: 70000\n",
            "Income Tax: 7000.00\n",
            "Salary after tax: 63000.00\n"
          ]
        }
      ]
    },
    {
      "cell_type": "code",
      "source": [
        "def calculate_shipping_cost(weight):\n",
        "  if weight > 20:\n",
        "    rate_per_kg = 15\n",
        "  elif weight >= 10:\n",
        "    rate_per_kg = 10\n",
        "  else:\n",
        "    rate_per_kg = 5\n",
        "  return weight * rate_per_kg\n",
        "\n",
        "def calculate():\n",
        "    weight = float(input(\"Enter the weight of the parcel in kg: \"))\n",
        "    if weight < 0:\n",
        "        print(\"Weight cannot be negative.\")\n",
        "        return\n",
        "    shipping_cost = calculate_shipping_cost(weight)\n",
        "    print(\"The shipping cost for a parcel is\",shipping_cost)\n",
        "\n",
        "calculate()"
      ],
      "metadata": {
        "colab": {
          "base_uri": "https://localhost:8080/"
        },
        "id": "1NVnHdBXu0iK",
        "outputId": "e75ecdba-0c94-424b-c3fb-36d6ddb1a361"
      },
      "execution_count": null,
      "outputs": [
        {
          "output_type": "stream",
          "name": "stdout",
          "text": [
            "Enter the weight of the parcel in kg: 15\n",
            "The shipping cost for a parcel is 150.0\n"
          ]
        }
      ]
    },
    {
      "cell_type": "code",
      "source": [
        "    num1 = float(input(\"Enter the first number: \"))\n",
        "    num2 = float(input(\"Enter the second number: \"))\n",
        "    num3 = float(input(\"Enter the third number: \"))\n",
        "    if num1 <= num2 and num1 <= num3:\n",
        "        smallest = num1\n",
        "    elif num2 <= num1 and num2 <= num3:\n",
        "        smallest = num2\n",
        "    else:\n",
        "        smallest = num3\n",
        "    print(\"The smallest number is:\", smallest)\n",
        "\n",
        "    if num1 >= num2 and num1 >= num3:\n",
        "        largest = num1\n",
        "    elif num2 >= num1 and num2 >= num3:\n",
        "        largest = num2\n",
        "    else:\n",
        "        largest = num3\n",
        "    print(\"The largest number is:\", largest)"
      ],
      "metadata": {
        "colab": {
          "base_uri": "https://localhost:8080/"
        },
        "id": "EqFmY3j4y8aw",
        "outputId": "ed9714da-bcff-4f69-f5e2-64fd82beed22"
      },
      "execution_count": null,
      "outputs": [
        {
          "output_type": "stream",
          "name": "stdout",
          "text": [
            "Enter the first number: 9\n",
            "Enter the second number: 4\n",
            "Enter the third number: 6\n",
            "The smallest number is: 4.0\n",
            "The largest number is: 9.0\n"
          ]
        }
      ]
    }
  ]
}