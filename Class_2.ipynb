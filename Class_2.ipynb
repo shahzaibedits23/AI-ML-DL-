{
  "nbformat": 4,
  "nbformat_minor": 0,
  "metadata": {
    "colab": {
      "provenance": [],
      "authorship_tag": "ABX9TyMRZ2vWl5Eu2/b0gBmDy7I5",
      "include_colab_link": true
    },
    "kernelspec": {
      "name": "python3",
      "display_name": "Python 3"
    },
    "language_info": {
      "name": "python"
    }
  },
  "cells": [
    {
      "cell_type": "markdown",
      "metadata": {
        "id": "view-in-github",
        "colab_type": "text"
      },
      "source": [
        "<a href=\"https://colab.research.google.com/github/shahzaibedits23/AI-ML-DL-/blob/main/Class_2.ipynb\" target=\"_parent\"><img src=\"https://colab.research.google.com/assets/colab-badge.svg\" alt=\"Open In Colab\"/></a>"
      ]
    },
    {
      "cell_type": "code",
      "execution_count": null,
      "metadata": {
        "colab": {
          "base_uri": "https://localhost:8080/"
        },
        "id": "e66wXblmY10h",
        "outputId": "09c45089-9aca-4db4-a3a5-feaa3ff54a2c"
      },
      "outputs": [
        {
          "output_type": "stream",
          "name": "stdout",
          "text": [
            "Enter a number: 13\n",
            "13 is an odd number.\n"
          ]
        }
      ],
      "source": [
        "number = int(input(\"Enter a number: \"))\n",
        "if number % 2 == 0:\n",
        "    print(f\"{number} is an even number.\")\n",
        "else:\n",
        "    print(f\"{number} is an odd number.\")"
      ]
    },
    {
      "cell_type": "code",
      "source": [
        "number = float(input(\"Enter a number: \"))\n",
        "if number > 0:\n",
        "    print(f\"{number} is a positive number.\")\n",
        "    if number % 2 == 0:\n",
        "        print(f\"{number} is an even number.\")\n",
        "    else:\n",
        "        print(f\"{number} is an odd number.\")\n",
        "elif number < 0:\n",
        "    print(f\"{number} is a negative number.\")\n",
        "else:\n",
        "    print(f\"{number} is zero.\")"
      ],
      "metadata": {
        "colab": {
          "base_uri": "https://localhost:8080/"
        },
        "id": "_u0AgbhgZniH",
        "outputId": "5236f40f-53e8-449c-e6f4-387bd8274f47"
      },
      "execution_count": null,
      "outputs": [
        {
          "output_type": "stream",
          "name": "stdout",
          "text": [
            "Enter a number: 57\n",
            "57.0 is a positive number.\n",
            "57.0 is an odd number.\n"
          ]
        }
      ]
    },
    {
      "cell_type": "code",
      "source": [
        "cost_price = float(input(\"Enter the cost price of the product: \"))\n",
        "sale_price = float(input(\"Enter the sale price of the product: \"))\n",
        "if sale_price > cost_price:\n",
        "    profit = sale_price - cost_price\n",
        "    print(f\"The product is making a profit of Rs.{profit:.2f}.\")\n",
        "else :\n",
        "    loss = cost_price - sale_price\n",
        "    print(f\"The product is making loss of Rs.{loss:.2f}.\")\n",
        "if sale_price == cost_price:\n",
        "    print(\"The product has no profit or loss.\")\n",
        "if sale_price > cost_price:\n",
        "    profit_percentage = (sale_price - cost_price) / cost_price * 100\n",
        "    print(f\"The product's profit percentage is {profit_percentage:.2f}%.\")\n",
        "else :\n",
        "    loss_percentage = (cost_price - sale_price) / cost_price * 100\n",
        "    print(f\"The product's loss percentage is {loss_percentage:}%.\")"
      ],
      "metadata": {
        "colab": {
          "base_uri": "https://localhost:8080/"
        },
        "id": "nAJfB1I9atHR",
        "outputId": "a0d46100-92de-4d1b-a34a-52a664267265"
      },
      "execution_count": null,
      "outputs": [
        {
          "output_type": "stream",
          "name": "stdout",
          "text": [
            "Enter the cost price of the product: 50\n",
            "Enter the sale price of the product: 70\n",
            "The product is making a profit of Rs.20.00.\n",
            "The product's profit percentage is 40.00%.\n"
          ]
        }
      ]
    },
    {
      "cell_type": "code",
      "source": [
        "fsc_marks = float(input(\"Enter FSc marks percentage: \"))\n",
        "test_marks = float(input(\"Enter test marks percentage: \"))\n",
        "age = int(input(\"Enter age: \"))\n",
        "\n",
        "if fsc_marks >= 60 and test_marks >= 70 and age >= 18:\n",
        "    print(\"Congratulations! You are eligible for admission.\")\n",
        "else:\n",
        "    print(\"Sorry, you are not eligible for admission based on the criteria.\")"
      ],
      "metadata": {
        "colab": {
          "base_uri": "https://localhost:8080/"
        },
        "id": "y7XuJHNkeD6B",
        "outputId": "89582acc-03e9-42af-a7d0-1f78c4813791"
      },
      "execution_count": null,
      "outputs": [
        {
          "output_type": "stream",
          "name": "stdout",
          "text": [
            "Enter FSc marks percentage: 80\n",
            "Enter test marks percentage: 50\n",
            "Enter age: 23\n",
            "Sorry, you are not eligible for admission based on the criteria.\n"
          ]
        }
      ]
    },
    {
      "cell_type": "code",
      "source": [
        "def factorial(n) :\n",
        "  if n == 0:\n",
        "    return 1\n",
        "  else:\n",
        "    return n * factorial(n-1)\n",
        "number = int(input(\"Enter a number: \"))\n",
        "result = factorial(number)\n",
        "print(\"The factorial is\", result)"
      ],
      "metadata": {
        "colab": {
          "base_uri": "https://localhost:8080/"
        },
        "id": "XJCkHFPrmvZx",
        "outputId": "88b2346f-b7d8-427d-ee8b-49588610b2d0"
      },
      "execution_count": null,
      "outputs": [
        {
          "output_type": "stream",
          "name": "stdout",
          "text": [
            "Enter a number: 8\n",
            "The factorial is 40320\n"
          ]
        }
      ]
    },
    {
      "cell_type": "code",
      "source": [
        "def check_even_odd(number) :\n",
        "  number = int(input(\"Enter a number: \"))\n",
        "  if number % 2 == 0:\n",
        "    print(\"number is even\")\n",
        "  else:\n",
        "    print(\"number is odd\")\n",
        "check_even_odd(number)"
      ],
      "metadata": {
        "colab": {
          "base_uri": "https://localhost:8080/",
          "height": 321
        },
        "id": "UklIABU8v-yl",
        "outputId": "63455ddc-7d1c-4050-b6d9-793fdd4fd828"
      },
      "execution_count": null,
      "outputs": [
        {
          "output_type": "error",
          "ename": "KeyboardInterrupt",
          "evalue": "Interrupted by user",
          "traceback": [
            "\u001b[0;31m---------------------------------------------------------------------------\u001b[0m",
            "\u001b[0;31mKeyboardInterrupt\u001b[0m                         Traceback (most recent call last)",
            "\u001b[0;32m/tmp/ipython-input-165262534.py\u001b[0m in \u001b[0;36m<cell line: 0>\u001b[0;34m()\u001b[0m\n\u001b[1;32m      5\u001b[0m   \u001b[0;32melse\u001b[0m\u001b[0;34m:\u001b[0m\u001b[0;34m\u001b[0m\u001b[0;34m\u001b[0m\u001b[0m\n\u001b[1;32m      6\u001b[0m     \u001b[0mprint\u001b[0m\u001b[0;34m(\u001b[0m\u001b[0;34m\"number is odd\"\u001b[0m\u001b[0;34m)\u001b[0m\u001b[0;34m\u001b[0m\u001b[0;34m\u001b[0m\u001b[0m\n\u001b[0;32m----> 7\u001b[0;31m \u001b[0mcheck_even_odd\u001b[0m\u001b[0;34m(\u001b[0m\u001b[0mnumber\u001b[0m\u001b[0;34m)\u001b[0m\u001b[0;34m\u001b[0m\u001b[0;34m\u001b[0m\u001b[0m\n\u001b[0m",
            "\u001b[0;32m/tmp/ipython-input-165262534.py\u001b[0m in \u001b[0;36mcheck_even_odd\u001b[0;34m(number)\u001b[0m\n\u001b[1;32m      1\u001b[0m \u001b[0;32mdef\u001b[0m \u001b[0mcheck_even_odd\u001b[0m\u001b[0;34m(\u001b[0m\u001b[0mnumber\u001b[0m\u001b[0;34m)\u001b[0m \u001b[0;34m:\u001b[0m\u001b[0;34m\u001b[0m\u001b[0;34m\u001b[0m\u001b[0m\n\u001b[0;32m----> 2\u001b[0;31m   \u001b[0mnumber\u001b[0m \u001b[0;34m=\u001b[0m \u001b[0mint\u001b[0m\u001b[0;34m(\u001b[0m\u001b[0minput\u001b[0m\u001b[0;34m(\u001b[0m\u001b[0;34m\"Enter a number: \"\u001b[0m\u001b[0;34m)\u001b[0m\u001b[0;34m)\u001b[0m\u001b[0;34m\u001b[0m\u001b[0;34m\u001b[0m\u001b[0m\n\u001b[0m\u001b[1;32m      3\u001b[0m   \u001b[0;32mif\u001b[0m \u001b[0mnumber\u001b[0m \u001b[0;34m%\u001b[0m \u001b[0;36m2\u001b[0m \u001b[0;34m==\u001b[0m \u001b[0;36m0\u001b[0m\u001b[0;34m:\u001b[0m\u001b[0;34m\u001b[0m\u001b[0;34m\u001b[0m\u001b[0m\n\u001b[1;32m      4\u001b[0m     \u001b[0mprint\u001b[0m\u001b[0;34m(\u001b[0m\u001b[0;34m\"number is even\"\u001b[0m\u001b[0;34m)\u001b[0m\u001b[0;34m\u001b[0m\u001b[0;34m\u001b[0m\u001b[0m\n\u001b[1;32m      5\u001b[0m   \u001b[0;32melse\u001b[0m\u001b[0;34m:\u001b[0m\u001b[0;34m\u001b[0m\u001b[0;34m\u001b[0m\u001b[0m\n",
            "\u001b[0;32m/usr/local/lib/python3.12/dist-packages/ipykernel/kernelbase.py\u001b[0m in \u001b[0;36mraw_input\u001b[0;34m(self, prompt)\u001b[0m\n\u001b[1;32m   1175\u001b[0m                 \u001b[0;34m\"raw_input was called, but this frontend does not support input requests.\"\u001b[0m\u001b[0;34m\u001b[0m\u001b[0;34m\u001b[0m\u001b[0m\n\u001b[1;32m   1176\u001b[0m             )\n\u001b[0;32m-> 1177\u001b[0;31m         return self._input_request(\n\u001b[0m\u001b[1;32m   1178\u001b[0m             \u001b[0mstr\u001b[0m\u001b[0;34m(\u001b[0m\u001b[0mprompt\u001b[0m\u001b[0;34m)\u001b[0m\u001b[0;34m,\u001b[0m\u001b[0;34m\u001b[0m\u001b[0;34m\u001b[0m\u001b[0m\n\u001b[1;32m   1179\u001b[0m             \u001b[0mself\u001b[0m\u001b[0;34m.\u001b[0m\u001b[0m_parent_ident\u001b[0m\u001b[0;34m[\u001b[0m\u001b[0;34m\"shell\"\u001b[0m\u001b[0;34m]\u001b[0m\u001b[0;34m,\u001b[0m\u001b[0;34m\u001b[0m\u001b[0;34m\u001b[0m\u001b[0m\n",
            "\u001b[0;32m/usr/local/lib/python3.12/dist-packages/ipykernel/kernelbase.py\u001b[0m in \u001b[0;36m_input_request\u001b[0;34m(self, prompt, ident, parent, password)\u001b[0m\n\u001b[1;32m   1217\u001b[0m             \u001b[0;32mexcept\u001b[0m \u001b[0mKeyboardInterrupt\u001b[0m\u001b[0;34m:\u001b[0m\u001b[0;34m\u001b[0m\u001b[0;34m\u001b[0m\u001b[0m\n\u001b[1;32m   1218\u001b[0m                 \u001b[0;31m# re-raise KeyboardInterrupt, to truncate traceback\u001b[0m\u001b[0;34m\u001b[0m\u001b[0;34m\u001b[0m\u001b[0m\n\u001b[0;32m-> 1219\u001b[0;31m                 \u001b[0;32mraise\u001b[0m \u001b[0mKeyboardInterrupt\u001b[0m\u001b[0;34m(\u001b[0m\u001b[0;34m\"Interrupted by user\"\u001b[0m\u001b[0;34m)\u001b[0m \u001b[0;32mfrom\u001b[0m \u001b[0;32mNone\u001b[0m\u001b[0;34m\u001b[0m\u001b[0;34m\u001b[0m\u001b[0m\n\u001b[0m\u001b[1;32m   1220\u001b[0m             \u001b[0;32mexcept\u001b[0m \u001b[0mException\u001b[0m\u001b[0;34m:\u001b[0m\u001b[0;34m\u001b[0m\u001b[0;34m\u001b[0m\u001b[0m\n\u001b[1;32m   1221\u001b[0m                 \u001b[0mself\u001b[0m\u001b[0;34m.\u001b[0m\u001b[0mlog\u001b[0m\u001b[0;34m.\u001b[0m\u001b[0mwarning\u001b[0m\u001b[0;34m(\u001b[0m\u001b[0;34m\"Invalid Message:\"\u001b[0m\u001b[0;34m,\u001b[0m \u001b[0mexc_info\u001b[0m\u001b[0;34m=\u001b[0m\u001b[0;32mTrue\u001b[0m\u001b[0;34m)\u001b[0m\u001b[0;34m\u001b[0m\u001b[0;34m\u001b[0m\u001b[0m\n",
            "\u001b[0;31mKeyboardInterrupt\u001b[0m: Interrupted by user"
          ]
        }
      ]
    },
    {
      "cell_type": "code",
      "source": [
        "def calculate_percentage():\n",
        "  \"\"\"Calculates percentage based on user input for obtained and total marks.\"\"\"\n",
        "  try:\n",
        "    obtained_marks = float(input(\"Enter obtained marks: \"))\n",
        "    total_marks = float(input(\"Enter total marks: \"))\n",
        "\n",
        "    if total_marks < 0 or obtained_marks < 0:\n",
        "      print(\"Marks cannot be negative.\")\n",
        "    elif obtained_marks > total_marks:\n",
        "      print(\"Obtained marks cannot be greater than total marks.\")\n",
        "    elif total_marks == 0:\n",
        "      print(\"Total marks cannot be zero.\")\n",
        "    else:\n",
        "      percentage = (obtained_marks / total_marks) * 100\n",
        "      print(\"The percentage is\",percentage,\"%\")\n",
        "  except ValueError:\n",
        "    print(\"Invalid input. Please enter valid numbers for marks.\")\n",
        "\n",
        "# Call the function to run the code\n",
        "calculate_percentage()"
      ],
      "metadata": {
        "id": "ieGl3EBoyMuT",
        "colab": {
          "base_uri": "https://localhost:8080/"
        },
        "outputId": "a9b8df86-cce6-4c88-e82e-50f59abc57af"
      },
      "execution_count": null,
      "outputs": [
        {
          "output_type": "stream",
          "name": "stdout",
          "text": [
            "Enter obtained marks: 760\n",
            "Enter total marks: 1000\n",
            "The percentage is 76.0 %\n"
          ]
        }
      ]
    },
    {
      "cell_type": "code",
      "source": [
        "def calculate_rectangle_area(length, width):\n",
        "  return length * width\n",
        "\n",
        "def compare_rectangle_areas():\n",
        "    print(\"For the first rectangle:\")\n",
        "    length1 = float(input(\"Enter the length of the first rectangle: \"))\n",
        "    width1 = float(input(\"Enter the width of the first rectangle: \"))\n",
        "\n",
        "    print(\"For the second rectangle:\")\n",
        "    length2 = float(input(\"Enter the length of the second rectangle: \"))\n",
        "    width2 = float(input(\"Enter the width of the second rectangle: \"))\n",
        "\n",
        "    area1 = calculate_rectangle_area(length1, width1)\n",
        "    area2 = calculate_rectangle_area(length2, width2)\n",
        "\n",
        "    print(\"Area of the first rectangle is\",area1)\n",
        "    print(\"Area of the second rectangle is\",area2)\n",
        "\n",
        "    if area1 > area2:\n",
        "      print(\"The first rectangle has a larger area.\")\n",
        "    elif area2 > area1:\n",
        "      print(\"The second rectangle has a larger area.\")\n",
        "    else:\n",
        "      print(\"Both rectangles have the same area.\")\n",
        "\n",
        "# Call the function to run the comparison\n",
        "compare_rectangle_areas()"
      ],
      "metadata": {
        "colab": {
          "base_uri": "https://localhost:8080/"
        },
        "id": "HZ4BXC-Gwg_t",
        "outputId": "59bd7be2-1365-426f-ea42-9a6d121e4dda"
      },
      "execution_count": null,
      "outputs": [
        {
          "output_type": "stream",
          "name": "stdout",
          "text": [
            "For the first rectangle:\n",
            "Enter the length of the first rectangle: 9\n",
            "Enter the width of the first rectangle: 5\n",
            "For the second rectangle:\n",
            "Enter the length of the second rectangle: 10\n",
            "Enter the width of the second rectangle: 2\n",
            "Area of the first rectangle is 45.0\n",
            "Area of the second rectangle is 20.0\n",
            "The first rectangle has a larger area.\n"
          ]
        }
      ]
    },
    {
      "cell_type": "code",
      "source": [
        "num1 = int(input(\"Enter first number: \"))\n",
        "num2 = int(input(\"Enter second number: \"))\n",
        "print(\"Thw value before swaping\")\n",
        "print(\"num1 =\",num1)\n",
        "print(\"num2 =\",num2)\n",
        "if num1 != num2:\n",
        "  num1 = num1 + num2\n",
        "  num2 = num1 - num2\n",
        "  num1 = num1 - num2\n",
        "print(\"The value after swaping\")\n",
        "print(\"num1 =\",num1)\n",
        "print(\"num2 =\",num2)"
      ],
      "metadata": {
        "colab": {
          "base_uri": "https://localhost:8080/"
        },
        "id": "yhS0jUwBr9tQ",
        "outputId": "f6958f56-758f-44d1-aa84-e2d972ef25cf"
      },
      "execution_count": null,
      "outputs": [
        {
          "output_type": "stream",
          "name": "stdout",
          "text": [
            "Enter first number: 3\n",
            "Enter second number: 2\n",
            "Thw value before swaping\n",
            "num1 = 3\n",
            "num2 = 2\n",
            "The value after swaping\n",
            "num1 = 2\n",
            "num2 = 3\n"
          ]
        }
      ]
    }
  ]
}