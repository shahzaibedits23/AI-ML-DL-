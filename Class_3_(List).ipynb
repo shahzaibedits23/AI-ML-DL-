{
  "nbformat": 4,
  "nbformat_minor": 0,
  "metadata": {
    "colab": {
      "provenance": [],
      "authorship_tag": "ABX9TyMjgYoM2/xhCQMBWweJB58S",
      "include_colab_link": true
    },
    "kernelspec": {
      "name": "python3",
      "display_name": "Python 3"
    },
    "language_info": {
      "name": "python"
    }
  },
  "cells": [
    {
      "cell_type": "markdown",
      "metadata": {
        "id": "view-in-github",
        "colab_type": "text"
      },
      "source": [
        "<a href=\"https://colab.research.google.com/github/shahzaibedits23/AI-ML-DL-/blob/main/Class_3_(List).ipynb\" target=\"_parent\"><img src=\"https://colab.research.google.com/assets/colab-badge.svg\" alt=\"Open In Colab\"/></a>"
      ]
    },
    {
      "cell_type": "markdown",
      "source": [
        "Q1: Create a list of 5 fruits. Print the first and last fruit."
      ],
      "metadata": {
        "id": "dC5NxCKye01o"
      }
    },
    {
      "cell_type": "code",
      "execution_count": null,
      "metadata": {
        "colab": {
          "base_uri": "https://localhost:8080/"
        },
        "id": "8i4MCYbremwF",
        "outputId": "0b09824a-a86f-4316-b73a-572286c5ebb7"
      },
      "outputs": [
        {
          "output_type": "stream",
          "name": "stdout",
          "text": [
            "apple\n",
            "cherry\n"
          ]
        }
      ],
      "source": [
        "list = ['apple','banana','pineapple','peanut','cherry']\n",
        "print(list[0])\n",
        "print(list[-1])"
      ]
    },
    {
      "cell_type": "markdown",
      "source": [
        "Q2: Create a list of numbers [10, 20, 30, 40, 50]. Print the sum of all numbers in the list."
      ],
      "metadata": {
        "id": "Jg7GfDJjfhMT"
      }
    },
    {
      "cell_type": "code",
      "source": [
        "list = [10, 20, 30, 40, 50]\n",
        "print('Sum of all numbers is',sum(list))"
      ],
      "metadata": {
        "colab": {
          "base_uri": "https://localhost:8080/"
        },
        "id": "D9cepahvfnLc",
        "outputId": "5f8a6384-92f7-4fef-aab7-67dac6cab1bf"
      },
      "execution_count": null,
      "outputs": [
        {
          "output_type": "stream",
          "name": "stdout",
          "text": [
            "Sum of all numbers is 150\n"
          ]
        }
      ]
    },
    {
      "cell_type": "markdown",
      "source": [
        "Q3: Make a list of 4 colors. Replace the 2nd color with a new one and print the updated\n",
        "list."
      ],
      "metadata": {
        "id": "X2lGBtGngFNp"
      }
    },
    {
      "cell_type": "code",
      "source": [
        "list = ['red','blue','green','yellow']\n",
        "list[1] = 'orange'\n",
        "print(list)"
      ],
      "metadata": {
        "colab": {
          "base_uri": "https://localhost:8080/"
        },
        "id": "O00Yi--SgEqt",
        "outputId": "a920696b-ada2-4b92-e60f-b2250245b3b6"
      },
      "execution_count": null,
      "outputs": [
        {
          "output_type": "stream",
          "name": "stdout",
          "text": [
            "['red', 'orange', 'green', 'yellow']\n"
          ]
        }
      ]
    },
    {
      "cell_type": "markdown",
      "source": [
        "Q4: Create a list [5, 10, 15, 20, 25]. Remove the number 15 and print the updated list."
      ],
      "metadata": {
        "id": "AJRktUjIgULL"
      }
    },
    {
      "cell_type": "code",
      "source": [
        "list = [5, 10, 15, 20, 25]\n",
        "list.remove(15)\n",
        "print(list)"
      ],
      "metadata": {
        "colab": {
          "base_uri": "https://localhost:8080/"
        },
        "id": "-AAxe-HIgZuL",
        "outputId": "022c4ab8-8ccf-47ad-af1f-bc169418a8a4"
      },
      "execution_count": null,
      "outputs": [
        {
          "output_type": "stream",
          "name": "stdout",
          "text": [
            "[5, 10, 20, 25]\n"
          ]
        }
      ]
    }
  ]
}