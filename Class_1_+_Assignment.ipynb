{
  "nbformat": 4,
  "nbformat_minor": 0,
  "metadata": {
    "colab": {
      "provenance": [],
      "authorship_tag": "ABX9TyPG/OQ4m4dTmhkYyRwHlDrK",
      "include_colab_link": true
    },
    "kernelspec": {
      "name": "python3",
      "display_name": "Python 3"
    },
    "language_info": {
      "name": "python"
    }
  },
  "cells": [
    {
      "cell_type": "markdown",
      "metadata": {
        "id": "view-in-github",
        "colab_type": "text"
      },
      "source": [
        "<a href=\"https://colab.research.google.com/github/shahzaibedits23/AI-ML-DL-/blob/main/Class_1_%2B_Assignment.ipynb\" target=\"_parent\"><img src=\"https://colab.research.google.com/assets/colab-badge.svg\" alt=\"Open In Colab\"/></a>"
      ]
    },
    {
      "cell_type": "code",
      "execution_count": null,
      "metadata": {
        "colab": {
          "base_uri": "https://localhost:8080/"
        },
        "id": "_q_G6ZzFHPMS",
        "outputId": "0dde678d-4a43-49e5-cc69-500d9e230ee6"
      },
      "outputs": [
        {
          "output_type": "stream",
          "name": "stdout",
          "text": [
            "Value of a is 7\n"
          ]
        }
      ],
      "source": [
        "a=7\n",
        "print('Value of a is',a)"
      ]
    },
    {
      "cell_type": "code",
      "source": [
        "length = 10\n",
        "width = 5\n",
        "perimeter = 2 * (length + width)\n",
        "print(\"Perimeter of Rectangle is\", perimeter)"
      ],
      "metadata": {
        "colab": {
          "base_uri": "https://localhost:8080/"
        },
        "id": "U9iEfsXZKGPs",
        "outputId": "46a0a92f-cb93-4016-9945-6f4330756fff"
      },
      "execution_count": null,
      "outputs": [
        {
          "output_type": "stream",
          "name": "stdout",
          "text": [
            "Perimeter of Rectangle is 30\n"
          ]
        }
      ]
    },
    {
      "cell_type": "code",
      "source": [
        "city_name = str(input(\"Enter Your City Name: \"))\n",
        "print(city_name)"
      ],
      "metadata": {
        "colab": {
          "base_uri": "https://localhost:8080/"
        },
        "id": "8qAgfJVaNcCS",
        "outputId": "f3146e64-d99d-447b-bd58-b2f8a9f5512d"
      },
      "execution_count": null,
      "outputs": [
        {
          "output_type": "stream",
          "name": "stdout",
          "text": [
            "Enter Your City Name: Lodhran\n",
            "Lodhran\n"
          ]
        }
      ]
    },
    {
      "cell_type": "code",
      "source": [
        "Birth = int(input(\"Enter Your Birth Year: \"))\n",
        "Age = 2025 - Birth\n",
        "print(\"Your Age is\", Age)"
      ],
      "metadata": {
        "colab": {
          "base_uri": "https://localhost:8080/"
        },
        "id": "24xCYVhZ3jX-",
        "outputId": "b37ced30-8e47-479a-cc19-389ec95942c2"
      },
      "execution_count": null,
      "outputs": [
        {
          "output_type": "stream",
          "name": "stdout",
          "text": [
            "Enter Your Birth Year: 2000\n",
            "Your Age is 25\n"
          ]
        }
      ]
    },
    {
      "cell_type": "code",
      "source": [
        "height = float(input(\"Height of Triangle: \"))\n",
        "width = float(input(\"Width of Triangle: \"))\n",
        "Area = (1/2) * (height * width)\n",
        "print(\"Area of Triangle is\", Area)"
      ],
      "metadata": {
        "colab": {
          "base_uri": "https://localhost:8080/"
        },
        "id": "s8DgJWSt6YPM",
        "outputId": "a0bf2c32-3ad7-49a3-bc9c-d8adebe70556"
      },
      "execution_count": null,
      "outputs": [
        {
          "output_type": "stream",
          "name": "stdout",
          "text": [
            "Height of Triangle: 7\n",
            "Width of Triangle: 4\n",
            "Area of Triangle is 14.0\n"
          ]
        }
      ]
    },
    {
      "cell_type": "code",
      "source": [
        "height = int(input(\"Height of Triangle: \"))\n",
        "width = int(input(\"Width of Triangle: \"))\n",
        "Area = (1/2) * (height * width)\n",
        "print(\"Area of Triangle is\", Area)"
      ],
      "metadata": {
        "colab": {
          "base_uri": "https://localhost:8080/"
        },
        "outputId": "2deef962-f6d6-436f-9d01-f6aab8765f84",
        "id": "hbTcohvG67S5"
      },
      "execution_count": null,
      "outputs": [
        {
          "output_type": "stream",
          "name": "stdout",
          "text": [
            "Height of Triangle: 5\n",
            "Width of Triangle: 2\n",
            "Area of Triangle is 5.0\n"
          ]
        }
      ]
    },
    {
      "cell_type": "code",
      "source": [
        "radius = float(input(\"Radius of Circle: \"))\n",
        "Area = 3.14 * (radius ** 2)\n",
        "print(\"Area of Circle is\", Area)"
      ],
      "metadata": {
        "colab": {
          "base_uri": "https://localhost:8080/"
        },
        "id": "WVNtxaCd7B4S",
        "outputId": "83003214-77f3-44c3-913c-508d5ba60b5d"
      },
      "execution_count": null,
      "outputs": [
        {
          "output_type": "stream",
          "name": "stdout",
          "text": [
            "Radius of Circle: 6.5\n",
            "Area of Circle is 132.665\n"
          ]
        }
      ]
    },
    {
      "cell_type": "code",
      "source": [
        "radius = float(input(\"Radius of Circle: \"))\n",
        "Circumference = 2 * 3.14 * radius\n",
        "print(\"Circumference of Circle is\", Circumference,'cm')"
      ],
      "metadata": {
        "colab": {
          "base_uri": "https://localhost:8080/"
        },
        "outputId": "4ecb81f7-052d-42eb-dd92-e304a2e3b5a0",
        "id": "XyMcWSM-8H6U"
      },
      "execution_count": null,
      "outputs": [
        {
          "output_type": "stream",
          "name": "stdout",
          "text": [
            "Radius of Circle: 8\n",
            "Circumference of Circle is 50.24 cm\n"
          ]
        }
      ]
    },
    {
      "cell_type": "code",
      "source": [
        "principal_amount = float(input(\"Principal Amount: \"))\n",
        "rate_of_interest = float(input(\"Rate of Interest: \"))\n",
        "time = float(input(\"Time: \"))\n",
        "simple_interest = (principal_amount * rate_of_interest * time) / 100\n",
        "print(\"Value Simple Interest is\", simple_interest)"
      ],
      "metadata": {
        "colab": {
          "base_uri": "https://localhost:8080/"
        },
        "id": "TITm_CWZ8v4w",
        "outputId": "e813e3fe-97d3-4f31-feb5-5633a69a2baf"
      },
      "execution_count": null,
      "outputs": [
        {
          "output_type": "stream",
          "name": "stdout",
          "text": [
            "Principal Amount: 100000\n",
            "Rate of Interest: 5\n",
            "Time: 3\n",
            "Value Simple Interest is 15000.0\n"
          ]
        }
      ]
    },
    {
      "cell_type": "code",
      "source": [
        "first_number = int(input(\"First Number: \"))\n",
        "second_number = int(input(\"Second Number: \"))\n",
        "third_number = int(input(\"Third Number: \"))\n",
        "average = (first_number + second_number + third_number) / 3\n",
        "print(\"Average of Three Numbers is\", average)"
      ],
      "metadata": {
        "colab": {
          "base_uri": "https://localhost:8080/"
        },
        "id": "VzKATwH_9aIj",
        "outputId": "822555b8-e32f-4765-c6bf-9d5da5a9cf17"
      },
      "execution_count": null,
      "outputs": [
        {
          "output_type": "stream",
          "name": "stdout",
          "text": [
            "First Number: 5\n",
            "Second Number: 10\n",
            "Third Number: 19\n",
            "Average of Three Numbers is 11.333333333333334\n"
          ]
        }
      ]
    },
    {
      "cell_type": "code",
      "source": [
        "Celcius_Temperature = float(input(\"Celcius Temperature: \"))\n",
        "Fahrenheit_Temperature = (Celcius_Temperature * 9/5) + 32\n",
        "print(\"Fahrenheit Temperature is\", Fahrenheit_Temperature)\n"
      ],
      "metadata": {
        "colab": {
          "base_uri": "https://localhost:8080/"
        },
        "id": "YoW7mKJ795WY",
        "outputId": "abb0cc26-f305-4ebf-cdb9-712736290e08"
      },
      "execution_count": null,
      "outputs": [
        {
          "output_type": "stream",
          "name": "stdout",
          "text": [
            "Celcius Temperature: 37\n",
            "Fahrenheit Temperature is 98.6\n"
          ]
        }
      ]
    }
  ]
}